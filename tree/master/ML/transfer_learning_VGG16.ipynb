{
  "nbformat": 4,
  "nbformat_minor": 0,
  "metadata": {
    "colab": {
      "name": "transfer_learning_VGG16.ipynb",
      "provenance": [],
      "collapsed_sections": [],
      "toc_visible": true,
      "authorship_tag": "ABX9TyNM/HKzxGzZazKePxRO3cWN",
      "include_colab_link": true
    },
    "kernelspec": {
      "name": "python3",
      "display_name": "Python 3"
    },
    "accelerator": "GPU"
  },
  "cells": [
    {
      "cell_type": "markdown",
      "metadata": {
        "id": "view-in-github",
        "colab_type": "text"
      },
      "source": [
        "<a href=\"https://colab.research.google.com/github/MohammadFebriyanto/TrashDetection/blob/master/tree/master/ML/transfer_learning_VGG16.ipynb\" target=\"_parent\"><img src=\"https://colab.research.google.com/assets/colab-badge.svg\" alt=\"Open In Colab\"/></a>"
      ]
    },
    {
      "cell_type": "code",
      "metadata": {
        "id": "y6gjnHWS-mUZ",
        "colab_type": "code",
        "colab": {}
      },
      "source": [
        "import tensorflow as tf\n",
        "from tensorflow.keras.callbacks import ModelCheckpoint\n",
        "from tensorflow.keras.layers import Conv2D, Flatten, MaxPooling2D, Dense, Dropout\n",
        "from tensorflow.keras.models import Sequential\n",
        "from tensorflow.keras.preprocessing.image import ImageDataGenerator\n",
        "import matplotlib.pyplot as plt\n",
        "import os\n",
        "import zipfile"
      ],
      "execution_count": null,
      "outputs": []
    },
    {
      "cell_type": "code",
      "metadata": {
        "id": "tU3JuLZQ-w9S",
        "colab_type": "code",
        "colab": {
          "base_uri": "https://localhost:8080/",
          "height": 357
        },
        "outputId": "1749e67b-3439-4886-cce0-ea12e50a2b3f"
      },
      "source": [
        "# Download file zip berisikan gambar\n",
        "!wget --no-check-certificate \\\n",
        "  https://github.com/garythung/trashnet/blob/master/data/dataset-resized.zip?raw=true \\\n",
        "  -O /tmp/trashnet.zip"
      ],
      "execution_count": null,
      "outputs": [
        {
          "output_type": "stream",
          "text": [
            "--2020-06-17 05:18:31--  https://github.com/garythung/trashnet/blob/master/data/dataset-resized.zip?raw=true\n",
            "Resolving github.com (github.com)... 140.82.118.4\n",
            "Connecting to github.com (github.com)|140.82.118.4|:443... connected.\n",
            "HTTP request sent, awaiting response... 302 Found\n",
            "Location: https://github.com/garythung/trashnet/raw/master/data/dataset-resized.zip [following]\n",
            "--2020-06-17 05:18:32--  https://github.com/garythung/trashnet/raw/master/data/dataset-resized.zip\n",
            "Reusing existing connection to github.com:443.\n",
            "HTTP request sent, awaiting response... 302 Found\n",
            "Location: https://raw.githubusercontent.com/garythung/trashnet/master/data/dataset-resized.zip [following]\n",
            "--2020-06-17 05:18:32--  https://raw.githubusercontent.com/garythung/trashnet/master/data/dataset-resized.zip\n",
            "Resolving raw.githubusercontent.com (raw.githubusercontent.com)... 151.101.0.133, 151.101.64.133, 151.101.128.133, ...\n",
            "Connecting to raw.githubusercontent.com (raw.githubusercontent.com)|151.101.0.133|:443... connected.\n",
            "HTTP request sent, awaiting response... 200 OK\n",
            "Length: 42834870 (41M) [application/zip]\n",
            "Saving to: ‘/tmp/trashnet.zip’\n",
            "\n",
            "/tmp/trashnet.zip   100%[===================>]  40.85M   141MB/s    in 0.3s    \n",
            "\n",
            "2020-06-17 05:18:33 (141 MB/s) - ‘/tmp/trashnet.zip’ saved [42834870/42834870]\n",
            "\n"
          ],
          "name": "stdout"
        }
      ]
    },
    {
      "cell_type": "code",
      "metadata": {
        "id": "V8-3kEaXAKfe",
        "colab_type": "code",
        "colab": {}
      },
      "source": [
        "# Ekstrak file Zip\n",
        "local_zip = '/tmp/trashnet.zip'\n",
        "zip_ref = zipfile.ZipFile(local_zip, 'r')\n",
        "zip_ref.extractall('/tmp')\n",
        "zip_ref.close()"
      ],
      "execution_count": null,
      "outputs": []
    },
    {
      "cell_type": "code",
      "metadata": {
        "id": "aEGVq-Gg_7u4",
        "colab_type": "code",
        "colab": {}
      },
      "source": [
        "def image_plot(item_dir, top=10):\n",
        "    all_item_dirs = os.listdir(item_dir)\n",
        "    item_files = [os.path.join(item_dir, file) for file in all_item_dirs[:5]]\n",
        "    \n",
        "    plt.figure(figsize=(12,14))\n",
        "    \n",
        "    for idx, img_path in enumerate(item_files):\n",
        "        plt.subplot(5,5,idx+1)\n",
        "        \n",
        "        img=plt.imread(img_path)\n",
        "        plt.tight_layout()\n",
        "        plt.imshow(img, cmap='gray')"
      ],
      "execution_count": null,
      "outputs": []
    },
    {
      "cell_type": "code",
      "metadata": {
        "id": "D8_bpvHC__3S",
        "colab_type": "code",
        "colab": {
          "base_uri": "https://localhost:8080/",
          "height": 34
        },
        "outputId": "d1e8ebb2-db8e-4258-e025-1b6ae83b5627"
      },
      "source": [
        "print(os.listdir('/tmp/dataset-resized'))"
      ],
      "execution_count": null,
      "outputs": [
        {
          "output_type": "stream",
          "text": [
            "['plastic', '.DS_Store', 'trash', 'metal', 'cardboard', 'glass', 'paper']\n"
          ],
          "name": "stdout"
        }
      ]
    },
    {
      "cell_type": "code",
      "metadata": {
        "id": "zClYeqbBAYj-",
        "colab_type": "code",
        "colab": {}
      },
      "source": [
        "data_path = '/tmp/dataset-resized'"
      ],
      "execution_count": null,
      "outputs": []
    },
    {
      "cell_type": "code",
      "metadata": {
        "id": "FaL4-QtmBZIe",
        "colab_type": "code",
        "colab": {
          "base_uri": "https://localhost:8080/",
          "height": 151
        },
        "outputId": "3b791e85-9163-4713-a03a-6eba5450b631"
      },
      "source": [
        "image_plot(data_path+'/glass')"
      ],
      "execution_count": null,
      "outputs": [
        {
          "output_type": "display_data",
          "data": {
            "image/png": "[encoded data removed]",
            "text/plain": [
              "<Figure size 864x1008 with 5 Axes>"
            ]
          },
          "metadata": {
            "tags": [],
            "needs_background": "light"
          }
        }
      ]
    },
    {
      "cell_type": "code",
      "metadata": {
        "id": "S4zVVQPWBZvX",
        "colab_type": "code",
        "colab": {}
      },
      "source": [
        "train = ImageDataGenerator(rotation_range = 90,horizontal_flip=True, vertical_flip=True, validation_split=0.2, rescale=1./255,\n",
        "                           shear_range=0.1,zoom_range=0.1, width_shift_range=0.1,height_shift_range=0.1,fill_mode='nearest')\n",
        "\n",
        "test = ImageDataGenerator(rescale=1./255, validation_split=0.2)"
      ],
      "execution_count": null,
      "outputs": []
    },
    {
      "cell_type": "code",
      "metadata": {
        "id": "HmBh-cONB6eF",
        "colab_type": "code",
        "colab": {
          "base_uri": "https://localhost:8080/",
          "height": 51
        },
        "outputId": "2a0faa11-e882-46bc-c6ca-8938b448e3e1"
      },
      "source": [
        "train_generator = train.flow_from_directory(data_path,target_size=(224,224),batch_size=11, class_mode='categorical',\n",
        "                                            subset='training')\n",
        "\n",
        "test_generator = test.flow_from_directory(data_path,target_size=(224,224),batch_size=11, class_mode='categorical',\n",
        "                                            subset='validation')"
      ],
      "execution_count": null,
      "outputs": [
        {
          "output_type": "stream",
          "text": [
            "Found 2024 images belonging to 6 classes.\n",
            "Found 503 images belonging to 6 classes.\n"
          ],
          "name": "stdout"
        }
      ]
    },
    {
      "cell_type": "code",
      "metadata": {
        "id": "CM9DL2ZlB-2d",
        "colab_type": "code",
        "colab": {
          "base_uri": "https://localhost:8080/",
          "height": 34
        },
        "outputId": "b1ff8f8e-4cfc-4b67-db0e-adf165133818"
      },
      "source": [
        "labels = (train_generator.class_indices)\n",
        "labels = dict((v,k) for k,v in labels.items())\n",
        "print(labels)"
      ],
      "execution_count": null,
      "outputs": [
        {
          "output_type": "stream",
          "text": [
            "{0: 'cardboard', 1: 'glass', 2: 'metal', 3: 'paper', 4: 'plastic', 5: 'trash'}\n"
          ],
          "name": "stdout"
        }
      ]
    },
    {
      "cell_type": "code",
      "metadata": {
        "id": "_vxrC_i2CCkm",
        "colab_type": "code",
        "colab": {
          "base_uri": "https://localhost:8080/",
          "height": 34
        },
        "outputId": "93f51adf-50a3-4f7c-92ce-75a84f4599b1"
      },
      "source": [
        "from tensorflow.keras import layers\n",
        "from tensorflow.keras import Model\n",
        "# !wget --no-check-certificate \\\n",
        "#     https://github.com/JonathanCMitchell/mobilenet_v2_keras/releases/download/v1.1/mobilenet_v2_weights_tf_dim_ordering_tf_kernels_1.0_224_no_top.h5 \\\n",
        "#     -O /tmp/mobilenet_v2_weights_tf_dim_ordering_tf_kernels_1.0_224_no_top.h5\n",
        "  \n",
        "import tensorflow.keras.applications.vgg16\n",
        "\n",
        "# local_weights_file = '/tmp/mobilenet_v2_weights_tf_dim_ordering_tf_kernels_1.0_224_no_top.h5'\n",
        "\n",
        "pre_trained_model = tensorflow.keras.applications.VGG16(input_shape = (224, 224, 3), \n",
        "                                include_top = False, \n",
        "                                weights = \"imagenet\")\n",
        "\n",
        "# pre_trained_model.load_weights(local_weights_file)\n",
        "# pre_trained_model.trainable = True\n",
        "# fine_tune_at = 153\n",
        "for layer in pre_trained_model.layers:\n",
        "  layer.trainable = False\n",
        "  \n",
        "#pre_trained_model.summary()\n",
        "\n",
        "last_layer = pre_trained_model.get_layer('block5_pool')\n",
        "print('last layer output shape: ', last_layer.output_shape)\n",
        "last_output = last_layer.output"
      ],
      "execution_count": null,
      "outputs": [
        {
          "output_type": "stream",
          "text": [
            "last layer output shape:  (None, 7, 7, 512)\n"
          ],
          "name": "stdout"
        }
      ]
    },
    {
      "cell_type": "code",
      "metadata": {
        "id": "grmdSIdBjCfH",
        "colab_type": "code",
        "colab": {
          "base_uri": "https://localhost:8080/",
          "height": 34
        },
        "outputId": "8b9178f5-369c-4418-ddea-e6773b941790"
      },
      "source": [
        "len(pre_trained_model.layers)"
      ],
      "execution_count": null,
      "outputs": [
        {
          "output_type": "execute_result",
          "data": {
            "text/plain": [
              "19"
            ]
          },
          "metadata": {
            "tags": []
          },
          "execution_count": 44
        }
      ]
    },
    {
      "cell_type": "code",
      "metadata": {
        "id": "XkZYc63kCotK",
        "colab_type": "code",
        "colab": {
          "base_uri": "https://localhost:8080/",
          "height": 1000
        },
        "outputId": "9f3936dc-87f9-4611-b9af-b9f43fa2c956"
      },
      "source": [
        "from tensorflow.keras.optimizers import SGD\n",
        "\n",
        "# Flatten the output layer to 1 dimension\n",
        "x = layers.Flatten()(last_output)\n",
        "# Add a fully connected layer with 1,024 hidden units and ReLU activation\n",
        "x = layers.Dense(256, activation='relu')(x)\n",
        "x = layers.Dropout(0.2)(x) \n",
        "x = layers.Dense(64, activation='relu')(x)\n",
        "# Add a dropout rate of 0.2\n",
        "x = layers.Dropout(0.1)(x)\n",
        "x = layers.Dense(16, activation='relu')(x)                 \n",
        "# Add a final softmax layer for classification\n",
        "x = layers.Dense  (6, activation='softmax')(x)           \n",
        "\n",
        "model = Model( pre_trained_model.input, x) \n",
        "\n",
        "model.compile(optimizer = 'adam', \n",
        "              loss = 'categorical_crossentropy', \n",
        "              metrics = ['accuracy'])\n",
        "\n",
        "model_path='new_transfer_learning.h5'\n",
        "checkpoint1 = ModelCheckpoint(model_path, monitor='val_accuracy', verbose=1, save_best_only=True, mode='max')\n",
        "callbacks_list = [checkpoint1]\n",
        "model.summary()"
      ],
      "execution_count": null,
      "outputs": [
        {
          "output_type": "stream",
          "text": [
            "Model: \"model_3\"\n",
            "_________________________________________________________________\n",
            "Layer (type)                 Output Shape              Param #   \n",
            "=================================================================\n",
            "input_3 (InputLayer)         [(None, 224, 224, 3)]     0         \n",
            "_________________________________________________________________\n",
            "block1_conv1 (Conv2D)        (None, 224, 224, 64)      1792      \n",
            "_________________________________________________________________\n",
            "block1_conv2 (Conv2D)        (None, 224, 224, 64)      36928     \n",
            "_________________________________________________________________\n",
            "block1_pool (MaxPooling2D)   (None, 112, 112, 64)      0         \n",
            "_________________________________________________________________\n",
            "block2_conv1 (Conv2D)        (None, 112, 112, 128)     73856     \n",
            "_________________________________________________________________\n",
            "block2_conv2 (Conv2D)        (None, 112, 112, 128)     147584    \n",
            "_________________________________________________________________\n",
            "block2_pool (MaxPooling2D)   (None, 56, 56, 128)       0         \n",
            "_________________________________________________________________\n",
            "block3_conv1 (Conv2D)        (None, 56, 56, 256)       295168    \n",
            "_________________________________________________________________\n",
            "block3_conv2 (Conv2D)        (None, 56, 56, 256)       590080    \n",
            "_________________________________________________________________\n",
            "block3_conv3 (Conv2D)        (None, 56, 56, 256)       590080    \n",
            "_________________________________________________________________\n",
            "block3_pool (MaxPooling2D)   (None, 28, 28, 256)       0         \n",
            "_________________________________________________________________\n",
            "block4_conv1 (Conv2D)        (None, 28, 28, 512)       1180160   \n",
            "_________________________________________________________________\n",
            "block4_conv2 (Conv2D)        (None, 28, 28, 512)       2359808   \n",
            "_________________________________________________________________\n",
            "block4_conv3 (Conv2D)        (None, 28, 28, 512)       2359808   \n",
            "_________________________________________________________________\n",
            "block4_pool (MaxPooling2D)   (None, 14, 14, 512)       0         \n",
            "_________________________________________________________________\n",
            "block5_conv1 (Conv2D)        (None, 14, 14, 512)       2359808   \n",
            "_________________________________________________________________\n",
            "block5_conv2 (Conv2D)        (None, 14, 14, 512)       2359808   \n",
            "_________________________________________________________________\n",
            "block5_conv3 (Conv2D)        (None, 14, 14, 512)       2359808   \n",
            "_________________________________________________________________\n",
            "block5_pool (MaxPooling2D)   (None, 7, 7, 512)         0         \n",
            "_________________________________________________________________\n",
            "flatten_3 (Flatten)          (None, 25088)             0         \n",
            "_________________________________________________________________\n",
            "dense_11 (Dense)             (None, 256)               6422784   \n",
            "_________________________________________________________________\n",
            "dropout_6 (Dropout)          (None, 256)               0         \n",
            "_________________________________________________________________\n",
            "dense_12 (Dense)             (None, 64)                16448     \n",
            "_________________________________________________________________\n",
            "dropout_7 (Dropout)          (None, 64)                0         \n",
            "_________________________________________________________________\n",
            "dense_13 (Dense)             (None, 16)                1040      \n",
            "_________________________________________________________________\n",
            "dense_14 (Dense)             (None, 6)                 102       \n",
            "=================================================================\n",
            "Total params: 21,155,062\n",
            "Trainable params: 6,440,374\n",
            "Non-trainable params: 14,714,688\n",
            "_________________________________________________________________\n"
          ],
          "name": "stdout"
        }
      ]
    },
    {
      "cell_type": "code",
      "metadata": {
        "id": "J86Pnf-FDBJE",
        "colab_type": "code",
        "colab": {
          "base_uri": "https://localhost:8080/",
          "height": 34
        },
        "outputId": "a76df336-eaa8-4612-f72b-0259641a3fb6"
      },
      "source": [
        "model.output_shape"
      ],
      "execution_count": null,
      "outputs": [
        {
          "output_type": "execute_result",
          "data": {
            "text/plain": [
              "(None, 6)"
            ]
          },
          "metadata": {
            "tags": []
          },
          "execution_count": 46
        }
      ]
    },
    {
      "cell_type": "code",
      "metadata": {
        "id": "lHCkyVoGEdCV",
        "colab_type": "code",
        "colab": {}
      },
      "source": [
        "step_size_train = train_generator.n//train_generator.batch_size\n",
        "step_size_test = test_generator.n//test_generator.batch_size"
      ],
      "execution_count": null,
      "outputs": []
    },
    {
      "cell_type": "code",
      "metadata": {
        "id": "e0Wpx0an550o",
        "colab_type": "code",
        "colab": {
          "base_uri": "https://localhost:8080/",
          "height": 1000
        },
        "outputId": "b36fa121-3386-439e-c197-41c8c968e92f"
      },
      "source": [
        "model.compile(optimizer = 'adam', \n",
        "              loss = 'categorical_crossentropy', \n",
        "              metrics = ['accuracy'])\n",
        "\n",
        "model_path='new_transfer_learning.h5'\n",
        "checkpoint1 = ModelCheckpoint(model_path, monitor='val_accuracy', verbose=1, save_best_only=True, mode='max')\n",
        "callbacks_list = [checkpoint1]\n",
        "model.summary()"
      ],
      "execution_count": null,
      "outputs": [
        {
          "output_type": "stream",
          "text": [
            "Model: \"model_3\"\n",
            "_________________________________________________________________\n",
            "Layer (type)                 Output Shape              Param #   \n",
            "=================================================================\n",
            "input_3 (InputLayer)         [(None, 224, 224, 3)]     0         \n",
            "_________________________________________________________________\n",
            "block1_conv1 (Conv2D)        (None, 224, 224, 64)      1792      \n",
            "_________________________________________________________________\n",
            "block1_conv2 (Conv2D)        (None, 224, 224, 64)      36928     \n",
            "_________________________________________________________________\n",
            "block1_pool (MaxPooling2D)   (None, 112, 112, 64)      0         \n",
            "_________________________________________________________________\n",
            "block2_conv1 (Conv2D)        (None, 112, 112, 128)     73856     \n",
            "_________________________________________________________________\n",
            "block2_conv2 (Conv2D)        (None, 112, 112, 128)     147584    \n",
            "_________________________________________________________________\n",
            "block2_pool (MaxPooling2D)   (None, 56, 56, 128)       0         \n",
            "_________________________________________________________________\n",
            "block3_conv1 (Conv2D)        (None, 56, 56, 256)       295168    \n",
            "_________________________________________________________________\n",
            "block3_conv2 (Conv2D)        (None, 56, 56, 256)       590080    \n",
            "_________________________________________________________________\n",
            "block3_conv3 (Conv2D)        (None, 56, 56, 256)       590080    \n",
            "_________________________________________________________________\n",
            "block3_pool (MaxPooling2D)   (None, 28, 28, 256)       0         \n",
            "_________________________________________________________________\n",
            "block4_conv1 (Conv2D)        (None, 28, 28, 512)       1180160   \n",
            "_________________________________________________________________\n",
            "block4_conv2 (Conv2D)        (None, 28, 28, 512)       2359808   \n",
            "_________________________________________________________________\n",
            "block4_conv3 (Conv2D)        (None, 28, 28, 512)       2359808   \n",
            "_________________________________________________________________\n",
            "block4_pool (MaxPooling2D)   (None, 14, 14, 512)       0         \n",
            "_________________________________________________________________\n",
            "block5_conv1 (Conv2D)        (None, 14, 14, 512)       2359808   \n",
            "_________________________________________________________________\n",
            "block5_conv2 (Conv2D)        (None, 14, 14, 512)       2359808   \n",
            "_________________________________________________________________\n",
            "block5_conv3 (Conv2D)        (None, 14, 14, 512)       2359808   \n",
            "_________________________________________________________________\n",
            "block5_pool (MaxPooling2D)   (None, 7, 7, 512)         0         \n",
            "_________________________________________________________________\n",
            "flatten_3 (Flatten)          (None, 25088)             0         \n",
            "_________________________________________________________________\n",
            "dense_11 (Dense)             (None, 256)               6422784   \n",
            "_________________________________________________________________\n",
            "dropout_6 (Dropout)          (None, 256)               0         \n",
            "_________________________________________________________________\n",
            "dense_12 (Dense)             (None, 64)                16448     \n",
            "_________________________________________________________________\n",
            "dropout_7 (Dropout)          (None, 64)                0         \n",
            "_________________________________________________________________\n",
            "dense_13 (Dense)             (None, 16)                1040      \n",
            "_________________________________________________________________\n",
            "dense_14 (Dense)             (None, 6)                 102       \n",
            "=================================================================\n",
            "Total params: 21,155,062\n",
            "Trainable params: 6,440,374\n",
            "Non-trainable params: 14,714,688\n",
            "_________________________________________________________________\n"
          ],
          "name": "stdout"
        }
      ]
    },
    {
      "cell_type": "code",
      "metadata": {
        "id": "kMq9wHaJDle5",
        "colab_type": "code",
        "colab": {
          "base_uri": "https://localhost:8080/",
          "height": 1000
        },
        "outputId": "b22d6d99-ca90-487d-fc9b-bafc043ba8ed"
      },
      "source": [
        "history = model.fit(\n",
        "            train_generator,\n",
        "            validation_data = test_generator,\n",
        "            steps_per_epoch = step_size_train,\n",
        "            epochs = 80,\n",
        "            validation_steps = step_size_test,\n",
        "            verbose = 1,\n",
        "            callbacks=callbacks_list)"
      ],
      "execution_count": null,
      "outputs": [
        {
          "output_type": "stream",
          "text": [
            "Epoch 1/80\n",
            "184/184 [==============================] - ETA: 0s - loss: 1.7352 - accuracy: 0.2915\n",
            "Epoch 00001: val_accuracy improved from -inf to 0.38182, saving model to new_transfer_learning.h5\n",
            "184/184 [==============================] - 45s 242ms/step - loss: 1.7352 - accuracy: 0.2915 - val_loss: 1.5014 - val_accuracy: 0.3818\n",
            "Epoch 2/80\n",
            "184/184 [==============================] - ETA: 0s - loss: 1.4173 - accuracy: 0.3943\n",
            "Epoch 00002: val_accuracy improved from 0.38182 to 0.43434, saving model to new_transfer_learning.h5\n",
            "184/184 [==============================] - 45s 243ms/step - loss: 1.4173 - accuracy: 0.3943 - val_loss: 1.2737 - val_accuracy: 0.4343\n",
            "Epoch 3/80\n",
            "184/184 [==============================] - ETA: 0s - loss: 1.2569 - accuracy: 0.4807\n",
            "Epoch 00003: val_accuracy improved from 0.43434 to 0.46263, saving model to new_transfer_learning.h5\n",
            "184/184 [==============================] - 45s 245ms/step - loss: 1.2569 - accuracy: 0.4807 - val_loss: 1.2250 - val_accuracy: 0.4626\n",
            "Epoch 4/80\n",
            "184/184 [==============================] - ETA: 0s - loss: 1.1619 - accuracy: 0.5015\n",
            "Epoch 00004: val_accuracy improved from 0.46263 to 0.55556, saving model to new_transfer_learning.h5\n",
            "184/184 [==============================] - 45s 245ms/step - loss: 1.1619 - accuracy: 0.5015 - val_loss: 1.1092 - val_accuracy: 0.5556\n",
            "Epoch 5/80\n",
            "184/184 [==============================] - ETA: 0s - loss: 1.0772 - accuracy: 0.5514\n",
            "Epoch 00005: val_accuracy improved from 0.55556 to 0.57778, saving model to new_transfer_learning.h5\n",
            "184/184 [==============================] - 45s 246ms/step - loss: 1.0772 - accuracy: 0.5514 - val_loss: 1.0546 - val_accuracy: 0.5778\n",
            "Epoch 6/80\n",
            "184/184 [==============================] - ETA: 0s - loss: 1.0101 - accuracy: 0.5914\n",
            "Epoch 00006: val_accuracy did not improve from 0.57778\n",
            "184/184 [==============================] - 45s 243ms/step - loss: 1.0101 - accuracy: 0.5914 - val_loss: 1.0380 - val_accuracy: 0.5556\n",
            "Epoch 7/80\n",
            "184/184 [==============================] - ETA: 0s - loss: 0.9823 - accuracy: 0.6042\n",
            "Epoch 00007: val_accuracy improved from 0.57778 to 0.58788, saving model to new_transfer_learning.h5\n",
            "184/184 [==============================] - 45s 242ms/step - loss: 0.9823 - accuracy: 0.6042 - val_loss: 1.0123 - val_accuracy: 0.5879\n",
            "Epoch 8/80\n",
            "184/184 [==============================] - ETA: 0s - loss: 0.9569 - accuracy: 0.6275\n",
            "Epoch 00008: val_accuracy improved from 0.58788 to 0.60808, saving model to new_transfer_learning.h5\n",
            "184/184 [==============================] - 46s 248ms/step - loss: 0.9569 - accuracy: 0.6275 - val_loss: 0.9516 - val_accuracy: 0.6081\n",
            "Epoch 9/80\n",
            "184/184 [==============================] - ETA: 0s - loss: 0.8717 - accuracy: 0.6640\n",
            "Epoch 00009: val_accuracy did not improve from 0.60808\n",
            "184/184 [==============================] - 45s 245ms/step - loss: 0.8717 - accuracy: 0.6640 - val_loss: 1.0284 - val_accuracy: 0.6061\n",
            "Epoch 10/80\n",
            "184/184 [==============================] - ETA: 0s - loss: 0.8705 - accuracy: 0.6700\n",
            "Epoch 00010: val_accuracy improved from 0.60808 to 0.64242, saving model to new_transfer_learning.h5\n",
            "184/184 [==============================] - 45s 245ms/step - loss: 0.8705 - accuracy: 0.6700 - val_loss: 0.9026 - val_accuracy: 0.6424\n",
            "Epoch 11/80\n",
            "184/184 [==============================] - ETA: 0s - loss: 0.8501 - accuracy: 0.6808\n",
            "Epoch 00011: val_accuracy improved from 0.64242 to 0.65455, saving model to new_transfer_learning.h5\n",
            "184/184 [==============================] - 45s 247ms/step - loss: 0.8501 - accuracy: 0.6808 - val_loss: 0.9295 - val_accuracy: 0.6545\n",
            "Epoch 12/80\n",
            "184/184 [==============================] - ETA: 0s - loss: 0.8536 - accuracy: 0.6774\n",
            "Epoch 00012: val_accuracy improved from 0.65455 to 0.66465, saving model to new_transfer_learning.h5\n",
            "184/184 [==============================] - 45s 244ms/step - loss: 0.8536 - accuracy: 0.6774 - val_loss: 0.9064 - val_accuracy: 0.6646\n",
            "Epoch 13/80\n",
            "184/184 [==============================] - ETA: 0s - loss: 0.7934 - accuracy: 0.7041\n",
            "Epoch 00013: val_accuracy improved from 0.66465 to 0.67475, saving model to new_transfer_learning.h5\n",
            "184/184 [==============================] - 46s 250ms/step - loss: 0.7934 - accuracy: 0.7041 - val_loss: 0.8597 - val_accuracy: 0.6747\n",
            "Epoch 14/80\n",
            "184/184 [==============================] - ETA: 0s - loss: 0.7688 - accuracy: 0.7149\n",
            "Epoch 00014: val_accuracy did not improve from 0.67475\n",
            "184/184 [==============================] - 46s 248ms/step - loss: 0.7688 - accuracy: 0.7149 - val_loss: 0.9032 - val_accuracy: 0.6667\n",
            "Epoch 15/80\n",
            "184/184 [==============================] - ETA: 0s - loss: 0.7503 - accuracy: 0.7169\n",
            "Epoch 00015: val_accuracy improved from 0.67475 to 0.69697, saving model to new_transfer_learning.h5\n",
            "184/184 [==============================] - 46s 253ms/step - loss: 0.7503 - accuracy: 0.7169 - val_loss: 0.8487 - val_accuracy: 0.6970\n",
            "Epoch 16/80\n",
            "184/184 [==============================] - ETA: 0s - loss: 0.7642 - accuracy: 0.7169\n",
            "Epoch 00016: val_accuracy did not improve from 0.69697\n",
            "184/184 [==============================] - 46s 252ms/step - loss: 0.7642 - accuracy: 0.7169 - val_loss: 0.8439 - val_accuracy: 0.6869\n",
            "Epoch 17/80\n",
            "184/184 [==============================] - ETA: 0s - loss: 0.7313 - accuracy: 0.7288\n",
            "Epoch 00017: val_accuracy improved from 0.69697 to 0.70303, saving model to new_transfer_learning.h5\n",
            "184/184 [==============================] - 47s 255ms/step - loss: 0.7313 - accuracy: 0.7288 - val_loss: 0.8330 - val_accuracy: 0.7030\n",
            "Epoch 18/80\n",
            "184/184 [==============================] - ETA: 0s - loss: 0.7671 - accuracy: 0.7144\n",
            "Epoch 00018: val_accuracy did not improve from 0.70303\n",
            "184/184 [==============================] - 46s 253ms/step - loss: 0.7671 - accuracy: 0.7144 - val_loss: 0.8630 - val_accuracy: 0.6869\n",
            "Epoch 19/80\n",
            "184/184 [==============================] - ETA: 0s - loss: 0.7060 - accuracy: 0.7337\n",
            "Epoch 00019: val_accuracy did not improve from 0.70303\n",
            "184/184 [==============================] - 46s 251ms/step - loss: 0.7060 - accuracy: 0.7337 - val_loss: 0.8419 - val_accuracy: 0.6869\n",
            "Epoch 20/80\n",
            "184/184 [==============================] - ETA: 0s - loss: 0.7145 - accuracy: 0.7376\n",
            "Epoch 00020: val_accuracy did not improve from 0.70303\n",
            "184/184 [==============================] - 45s 244ms/step - loss: 0.7145 - accuracy: 0.7376 - val_loss: 0.8576 - val_accuracy: 0.6970\n",
            "Epoch 21/80\n",
            "184/184 [==============================] - ETA: 0s - loss: 0.7131 - accuracy: 0.7381\n",
            "Epoch 00021: val_accuracy improved from 0.70303 to 0.70505, saving model to new_transfer_learning.h5\n",
            "184/184 [==============================] - 45s 246ms/step - loss: 0.7131 - accuracy: 0.7381 - val_loss: 0.8578 - val_accuracy: 0.7051\n",
            "Epoch 22/80\n",
            "184/184 [==============================] - ETA: 0s - loss: 0.6823 - accuracy: 0.7510\n",
            "Epoch 00022: val_accuracy did not improve from 0.70505\n",
            "184/184 [==============================] - 46s 248ms/step - loss: 0.6823 - accuracy: 0.7510 - val_loss: 0.8444 - val_accuracy: 0.6747\n",
            "Epoch 23/80\n",
            "184/184 [==============================] - ETA: 0s - loss: 0.6722 - accuracy: 0.7559\n",
            "Epoch 00023: val_accuracy did not improve from 0.70505\n",
            "184/184 [==============================] - 45s 247ms/step - loss: 0.6722 - accuracy: 0.7559 - val_loss: 0.8234 - val_accuracy: 0.7030\n",
            "Epoch 24/80\n",
            "184/184 [==============================] - ETA: 0s - loss: 0.6372 - accuracy: 0.7717\n",
            "Epoch 00024: val_accuracy did not improve from 0.70505\n",
            "184/184 [==============================] - 45s 247ms/step - loss: 0.6372 - accuracy: 0.7717 - val_loss: 0.8496 - val_accuracy: 0.6848\n",
            "Epoch 25/80\n",
            "184/184 [==============================] - ETA: 0s - loss: 0.6842 - accuracy: 0.7446\n",
            "Epoch 00025: val_accuracy improved from 0.70505 to 0.71111, saving model to new_transfer_learning.h5\n",
            "184/184 [==============================] - 46s 249ms/step - loss: 0.6842 - accuracy: 0.7446 - val_loss: 0.7798 - val_accuracy: 0.7111\n",
            "Epoch 26/80\n",
            "184/184 [==============================] - ETA: 0s - loss: 0.6137 - accuracy: 0.7801\n",
            "Epoch 00026: val_accuracy did not improve from 0.71111\n",
            "184/184 [==============================] - 46s 251ms/step - loss: 0.6137 - accuracy: 0.7801 - val_loss: 0.8070 - val_accuracy: 0.7071\n",
            "Epoch 27/80\n",
            "184/184 [==============================] - ETA: 0s - loss: 0.6616 - accuracy: 0.7525\n",
            "Epoch 00027: val_accuracy did not improve from 0.71111\n",
            "184/184 [==============================] - 46s 253ms/step - loss: 0.6616 - accuracy: 0.7525 - val_loss: 0.8477 - val_accuracy: 0.6889\n",
            "Epoch 28/80\n",
            "184/184 [==============================] - ETA: 0s - loss: 0.6270 - accuracy: 0.7722\n",
            "Epoch 00028: val_accuracy did not improve from 0.71111\n",
            "184/184 [==============================] - 47s 254ms/step - loss: 0.6270 - accuracy: 0.7722 - val_loss: 0.7839 - val_accuracy: 0.6949\n",
            "Epoch 29/80\n",
            "184/184 [==============================] - ETA: 0s - loss: 0.6089 - accuracy: 0.7693\n",
            "Epoch 00029: val_accuracy improved from 0.71111 to 0.73131, saving model to new_transfer_learning.h5\n",
            "184/184 [==============================] - 46s 250ms/step - loss: 0.6089 - accuracy: 0.7693 - val_loss: 0.7835 - val_accuracy: 0.7313\n",
            "Epoch 30/80\n",
            "184/184 [==============================] - ETA: 0s - loss: 0.6091 - accuracy: 0.7703\n",
            "Epoch 00030: val_accuracy did not improve from 0.73131\n",
            "184/184 [==============================] - 47s 253ms/step - loss: 0.6091 - accuracy: 0.7703 - val_loss: 0.7752 - val_accuracy: 0.7172\n",
            "Epoch 31/80\n",
            "184/184 [==============================] - ETA: 0s - loss: 0.6172 - accuracy: 0.7851\n",
            "Epoch 00031: val_accuracy did not improve from 0.73131\n",
            "184/184 [==============================] - 47s 254ms/step - loss: 0.6172 - accuracy: 0.7851 - val_loss: 0.8345 - val_accuracy: 0.6970\n",
            "Epoch 32/80\n",
            "184/184 [==============================] - ETA: 0s - loss: 0.6065 - accuracy: 0.7772\n",
            "Epoch 00032: val_accuracy did not improve from 0.73131\n",
            "184/184 [==============================] - 45s 246ms/step - loss: 0.6065 - accuracy: 0.7772 - val_loss: 0.7675 - val_accuracy: 0.7010\n",
            "Epoch 33/80\n",
            "184/184 [==============================] - ETA: 0s - loss: 0.5851 - accuracy: 0.7915\n",
            "Epoch 00033: val_accuracy did not improve from 0.73131\n",
            "184/184 [==============================] - 45s 247ms/step - loss: 0.5851 - accuracy: 0.7915 - val_loss: 0.8788 - val_accuracy: 0.6970\n",
            "Epoch 34/80\n",
            "184/184 [==============================] - ETA: 0s - loss: 0.6258 - accuracy: 0.7742\n",
            "Epoch 00034: val_accuracy did not improve from 0.73131\n",
            "184/184 [==============================] - 45s 244ms/step - loss: 0.6258 - accuracy: 0.7742 - val_loss: 0.7545 - val_accuracy: 0.7232\n",
            "Epoch 35/80\n",
            "184/184 [==============================] - ETA: 0s - loss: 0.6116 - accuracy: 0.7633\n",
            "Epoch 00035: val_accuracy did not improve from 0.73131\n",
            "184/184 [==============================] - 45s 244ms/step - loss: 0.6116 - accuracy: 0.7633 - val_loss: 0.8171 - val_accuracy: 0.7051\n",
            "Epoch 36/80\n",
            "184/184 [==============================] - ETA: 0s - loss: 0.6008 - accuracy: 0.7717\n",
            "Epoch 00036: val_accuracy did not improve from 0.73131\n",
            "184/184 [==============================] - 45s 247ms/step - loss: 0.6008 - accuracy: 0.7717 - val_loss: 0.7578 - val_accuracy: 0.7293\n",
            "Epoch 37/80\n",
            "184/184 [==============================] - ETA: 0s - loss: 0.6046 - accuracy: 0.7747\n",
            "Epoch 00037: val_accuracy did not improve from 0.73131\n",
            "184/184 [==============================] - 46s 249ms/step - loss: 0.6046 - accuracy: 0.7747 - val_loss: 0.8103 - val_accuracy: 0.6970\n",
            "Epoch 38/80\n",
            "184/184 [==============================] - ETA: 0s - loss: 0.5744 - accuracy: 0.7920\n",
            "Epoch 00038: val_accuracy improved from 0.73131 to 0.73333, saving model to new_transfer_learning.h5\n",
            "184/184 [==============================] - 47s 254ms/step - loss: 0.5744 - accuracy: 0.7920 - val_loss: 0.7837 - val_accuracy: 0.7333\n",
            "Epoch 39/80\n",
            "184/184 [==============================] - ETA: 0s - loss: 0.5729 - accuracy: 0.7940\n",
            "Epoch 00039: val_accuracy did not improve from 0.73333\n",
            "184/184 [==============================] - 46s 252ms/step - loss: 0.5729 - accuracy: 0.7940 - val_loss: 0.7707 - val_accuracy: 0.7131\n",
            "Epoch 40/80\n",
            "184/184 [==============================] - ETA: 0s - loss: 0.5696 - accuracy: 0.7955\n",
            "Epoch 00040: val_accuracy did not improve from 0.73333\n",
            "184/184 [==============================] - 46s 251ms/step - loss: 0.5696 - accuracy: 0.7955 - val_loss: 0.7441 - val_accuracy: 0.7313\n",
            "Epoch 41/80\n",
            "184/184 [==============================] - ETA: 0s - loss: 0.5509 - accuracy: 0.8113\n",
            "Epoch 00041: val_accuracy did not improve from 0.73333\n",
            "184/184 [==============================] - 46s 247ms/step - loss: 0.5509 - accuracy: 0.8113 - val_loss: 0.8168 - val_accuracy: 0.7131\n",
            "Epoch 42/80\n",
            "184/184 [==============================] - ETA: 0s - loss: 0.5665 - accuracy: 0.7969\n",
            "Epoch 00042: val_accuracy did not improve from 0.73333\n",
            "184/184 [==============================] - 45s 246ms/step - loss: 0.5665 - accuracy: 0.7969 - val_loss: 0.8461 - val_accuracy: 0.7172\n",
            "Epoch 43/80\n",
            "184/184 [==============================] - ETA: 0s - loss: 0.5379 - accuracy: 0.8098\n",
            "Epoch 00043: val_accuracy did not improve from 0.73333\n",
            "184/184 [==============================] - 46s 249ms/step - loss: 0.5379 - accuracy: 0.8098 - val_loss: 0.8153 - val_accuracy: 0.7253\n",
            "Epoch 44/80\n",
            "184/184 [==============================] - ETA: 0s - loss: 0.5434 - accuracy: 0.7994\n",
            "Epoch 00044: val_accuracy improved from 0.73333 to 0.75152, saving model to new_transfer_learning.h5\n",
            "184/184 [==============================] - 46s 249ms/step - loss: 0.5434 - accuracy: 0.7994 - val_loss: 0.7836 - val_accuracy: 0.7515\n",
            "Epoch 45/80\n",
            "184/184 [==============================] - ETA: 0s - loss: 0.5570 - accuracy: 0.8004\n",
            "Epoch 00045: val_accuracy did not improve from 0.75152\n",
            "184/184 [==============================] - 45s 247ms/step - loss: 0.5570 - accuracy: 0.8004 - val_loss: 0.8393 - val_accuracy: 0.7313\n",
            "Epoch 46/80\n",
            "184/184 [==============================] - ETA: 0s - loss: 0.5541 - accuracy: 0.8024\n",
            "Epoch 00046: val_accuracy did not improve from 0.75152\n",
            "184/184 [==============================] - 45s 243ms/step - loss: 0.5541 - accuracy: 0.8024 - val_loss: 0.7403 - val_accuracy: 0.7131\n",
            "Epoch 47/80\n",
            "184/184 [==============================] - ETA: 0s - loss: 0.5138 - accuracy: 0.8108\n",
            "Epoch 00047: val_accuracy did not improve from 0.75152\n",
            "184/184 [==============================] - 44s 241ms/step - loss: 0.5138 - accuracy: 0.8108 - val_loss: 0.8514 - val_accuracy: 0.7071\n",
            "Epoch 48/80\n",
            "184/184 [==============================] - ETA: 0s - loss: 0.5302 - accuracy: 0.8053\n",
            "Epoch 00048: val_accuracy did not improve from 0.75152\n",
            "184/184 [==============================] - 45s 243ms/step - loss: 0.5302 - accuracy: 0.8053 - val_loss: 0.7308 - val_accuracy: 0.7313\n",
            "Epoch 49/80\n",
            "184/184 [==============================] - ETA: 0s - loss: 0.5080 - accuracy: 0.8152\n",
            "Epoch 00049: val_accuracy did not improve from 0.75152\n",
            "184/184 [==============================] - 45s 244ms/step - loss: 0.5080 - accuracy: 0.8152 - val_loss: 0.8529 - val_accuracy: 0.7091\n",
            "Epoch 50/80\n",
            "184/184 [==============================] - ETA: 0s - loss: 0.5078 - accuracy: 0.8182\n",
            "Epoch 00050: val_accuracy did not improve from 0.75152\n",
            "184/184 [==============================] - 46s 249ms/step - loss: 0.5078 - accuracy: 0.8182 - val_loss: 0.7432 - val_accuracy: 0.7495\n",
            "Epoch 51/80\n",
            "184/184 [==============================] - ETA: 0s - loss: 0.5063 - accuracy: 0.8142\n",
            "Epoch 00051: val_accuracy improved from 0.75152 to 0.75354, saving model to new_transfer_learning.h5\n",
            "184/184 [==============================] - 46s 250ms/step - loss: 0.5063 - accuracy: 0.8142 - val_loss: 0.7628 - val_accuracy: 0.7535\n",
            "Epoch 52/80\n",
            "184/184 [==============================] - ETA: 0s - loss: 0.4839 - accuracy: 0.8291\n",
            "Epoch 00052: val_accuracy did not improve from 0.75354\n",
            "184/184 [==============================] - 45s 244ms/step - loss: 0.4839 - accuracy: 0.8291 - val_loss: 0.7446 - val_accuracy: 0.7273\n",
            "Epoch 53/80\n",
            "184/184 [==============================] - ETA: 0s - loss: 0.4920 - accuracy: 0.8177\n",
            "Epoch 00053: val_accuracy did not improve from 0.75354\n",
            "184/184 [==============================] - 45s 247ms/step - loss: 0.4920 - accuracy: 0.8177 - val_loss: 0.7758 - val_accuracy: 0.7475\n",
            "Epoch 54/80\n",
            "184/184 [==============================] - ETA: 0s - loss: 0.5070 - accuracy: 0.8137\n",
            "Epoch 00054: val_accuracy did not improve from 0.75354\n",
            "184/184 [==============================] - 45s 244ms/step - loss: 0.5070 - accuracy: 0.8137 - val_loss: 0.8106 - val_accuracy: 0.7455\n",
            "Epoch 55/80\n",
            "184/184 [==============================] - ETA: 0s - loss: 0.5139 - accuracy: 0.8202\n",
            "Epoch 00055: val_accuracy did not improve from 0.75354\n",
            "184/184 [==============================] - 46s 248ms/step - loss: 0.5139 - accuracy: 0.8202 - val_loss: 0.8124 - val_accuracy: 0.7354\n",
            "Epoch 56/80\n",
            "184/184 [==============================] - ETA: 0s - loss: 0.4720 - accuracy: 0.8291\n",
            "Epoch 00056: val_accuracy did not improve from 0.75354\n",
            "184/184 [==============================] - 45s 247ms/step - loss: 0.4720 - accuracy: 0.8291 - val_loss: 0.8489 - val_accuracy: 0.7071\n",
            "Epoch 57/80\n",
            "184/184 [==============================] - ETA: 0s - loss: 0.4986 - accuracy: 0.8231\n",
            "Epoch 00057: val_accuracy improved from 0.75354 to 0.76364, saving model to new_transfer_learning.h5\n",
            "184/184 [==============================] - 46s 253ms/step - loss: 0.4986 - accuracy: 0.8231 - val_loss: 0.7267 - val_accuracy: 0.7636\n",
            "Epoch 58/80\n",
            "184/184 [==============================] - ETA: 0s - loss: 0.4998 - accuracy: 0.8142\n",
            "Epoch 00058: val_accuracy did not improve from 0.76364\n",
            "184/184 [==============================] - 45s 245ms/step - loss: 0.4998 - accuracy: 0.8142 - val_loss: 0.7130 - val_accuracy: 0.7495\n",
            "Epoch 59/80\n",
            "184/184 [==============================] - ETA: 0s - loss: 0.4933 - accuracy: 0.8147\n",
            "Epoch 00059: val_accuracy did not improve from 0.76364\n",
            "184/184 [==============================] - 45s 246ms/step - loss: 0.4933 - accuracy: 0.8147 - val_loss: 0.8061 - val_accuracy: 0.7192\n",
            "Epoch 60/80\n",
            "184/184 [==============================] - ETA: 0s - loss: 0.5173 - accuracy: 0.8108\n",
            "Epoch 00060: val_accuracy did not improve from 0.76364\n",
            "184/184 [==============================] - 46s 249ms/step - loss: 0.5173 - accuracy: 0.8108 - val_loss: 0.7429 - val_accuracy: 0.7354\n",
            "Epoch 61/80\n",
            "184/184 [==============================] - ETA: 0s - loss: 0.4737 - accuracy: 0.8286\n",
            "Epoch 00061: val_accuracy did not improve from 0.76364\n",
            "184/184 [==============================] - 45s 244ms/step - loss: 0.4737 - accuracy: 0.8286 - val_loss: 0.8604 - val_accuracy: 0.7051\n",
            "Epoch 62/80\n",
            "184/184 [==============================] - ETA: 0s - loss: 0.4850 - accuracy: 0.8241\n",
            "Epoch 00062: val_accuracy did not improve from 0.76364\n",
            "184/184 [==============================] - 45s 246ms/step - loss: 0.4850 - accuracy: 0.8241 - val_loss: 0.7716 - val_accuracy: 0.7374\n",
            "Epoch 63/80\n",
            "184/184 [==============================] - ETA: 0s - loss: 0.4624 - accuracy: 0.8350\n",
            "Epoch 00063: val_accuracy did not improve from 0.76364\n",
            "184/184 [==============================] - 45s 243ms/step - loss: 0.4624 - accuracy: 0.8350 - val_loss: 0.8593 - val_accuracy: 0.7091\n",
            "Epoch 64/80\n",
            "184/184 [==============================] - ETA: 0s - loss: 0.4843 - accuracy: 0.8281\n",
            "Epoch 00064: val_accuracy did not improve from 0.76364\n",
            "184/184 [==============================] - 47s 253ms/step - loss: 0.4843 - accuracy: 0.8281 - val_loss: 0.7455 - val_accuracy: 0.7354\n",
            "Epoch 65/80\n",
            "184/184 [==============================] - ETA: 0s - loss: 0.4621 - accuracy: 0.8345\n",
            "Epoch 00065: val_accuracy did not improve from 0.76364\n",
            "184/184 [==============================] - 46s 249ms/step - loss: 0.4621 - accuracy: 0.8345 - val_loss: 0.7426 - val_accuracy: 0.7556\n",
            "Epoch 66/80\n",
            "184/184 [==============================] - ETA: 0s - loss: 0.4845 - accuracy: 0.8246\n",
            "Epoch 00066: val_accuracy did not improve from 0.76364\n",
            "184/184 [==============================] - 46s 250ms/step - loss: 0.4845 - accuracy: 0.8246 - val_loss: 0.7905 - val_accuracy: 0.7131\n",
            "Epoch 67/80\n",
            "184/184 [==============================] - ETA: 0s - loss: 0.4423 - accuracy: 0.8389\n",
            "Epoch 00067: val_accuracy did not improve from 0.76364\n",
            "184/184 [==============================] - 45s 247ms/step - loss: 0.4423 - accuracy: 0.8389 - val_loss: 0.7801 - val_accuracy: 0.7212\n",
            "Epoch 68/80\n",
            "184/184 [==============================] - ETA: 0s - loss: 0.4538 - accuracy: 0.8404\n",
            "Epoch 00068: val_accuracy did not improve from 0.76364\n",
            "184/184 [==============================] - 45s 244ms/step - loss: 0.4538 - accuracy: 0.8404 - val_loss: 0.8173 - val_accuracy: 0.7535\n",
            "Epoch 69/80\n",
            "184/184 [==============================] - ETA: 0s - loss: 0.4689 - accuracy: 0.8325\n",
            "Epoch 00069: val_accuracy did not improve from 0.76364\n",
            "184/184 [==============================] - 44s 241ms/step - loss: 0.4689 - accuracy: 0.8325 - val_loss: 0.8005 - val_accuracy: 0.7354\n",
            "Epoch 70/80\n",
            "184/184 [==============================] - ETA: 0s - loss: 0.4648 - accuracy: 0.8295\n",
            "Epoch 00070: val_accuracy did not improve from 0.76364\n",
            "184/184 [==============================] - 46s 250ms/step - loss: 0.4648 - accuracy: 0.8295 - val_loss: 0.8008 - val_accuracy: 0.7273\n",
            "Epoch 71/80\n",
            "184/184 [==============================] - ETA: 0s - loss: 0.4445 - accuracy: 0.8429\n",
            "Epoch 00071: val_accuracy improved from 0.76364 to 0.76566, saving model to new_transfer_learning.h5\n",
            "184/184 [==============================] - 45s 247ms/step - loss: 0.4445 - accuracy: 0.8429 - val_loss: 0.7040 - val_accuracy: 0.7657\n",
            "Epoch 72/80\n",
            "184/184 [==============================] - ETA: 0s - loss: 0.4696 - accuracy: 0.8295\n",
            "Epoch 00072: val_accuracy did not improve from 0.76566\n",
            "184/184 [==============================] - 47s 255ms/step - loss: 0.4696 - accuracy: 0.8295 - val_loss: 0.7073 - val_accuracy: 0.7636\n",
            "Epoch 73/80\n",
            "184/184 [==============================] - ETA: 0s - loss: 0.4648 - accuracy: 0.8340\n",
            "Epoch 00073: val_accuracy did not improve from 0.76566\n",
            "184/184 [==============================] - 47s 254ms/step - loss: 0.4648 - accuracy: 0.8340 - val_loss: 0.7173 - val_accuracy: 0.7495\n",
            "Epoch 74/80\n",
            "184/184 [==============================] - ETA: 0s - loss: 0.4262 - accuracy: 0.8444\n",
            "Epoch 00074: val_accuracy did not improve from 0.76566\n",
            "184/184 [==============================] - 45s 246ms/step - loss: 0.4262 - accuracy: 0.8444 - val_loss: 0.6748 - val_accuracy: 0.7616\n",
            "Epoch 75/80\n",
            "184/184 [==============================] - ETA: 0s - loss: 0.4345 - accuracy: 0.8444\n",
            "Epoch 00075: val_accuracy did not improve from 0.76566\n",
            "184/184 [==============================] - 44s 241ms/step - loss: 0.4345 - accuracy: 0.8444 - val_loss: 0.6984 - val_accuracy: 0.7475\n",
            "Epoch 76/80\n",
            "184/184 [==============================] - ETA: 0s - loss: 0.4473 - accuracy: 0.8394\n",
            "Epoch 00076: val_accuracy did not improve from 0.76566\n",
            "184/184 [==============================] - 45s 242ms/step - loss: 0.4473 - accuracy: 0.8394 - val_loss: 0.7359 - val_accuracy: 0.7414\n",
            "Epoch 77/80\n",
            "184/184 [==============================] - ETA: 0s - loss: 0.4577 - accuracy: 0.8513\n",
            "Epoch 00077: val_accuracy did not improve from 0.76566\n",
            "184/184 [==============================] - 44s 240ms/step - loss: 0.4577 - accuracy: 0.8513 - val_loss: 0.6536 - val_accuracy: 0.7576\n",
            "Epoch 78/80\n",
            "184/184 [==============================] - ETA: 0s - loss: 0.4465 - accuracy: 0.8360\n",
            "Epoch 00078: val_accuracy did not improve from 0.76566\n",
            "184/184 [==============================] - 44s 238ms/step - loss: 0.4465 - accuracy: 0.8360 - val_loss: 0.8517 - val_accuracy: 0.7232\n",
            "Epoch 79/80\n",
            "184/184 [==============================] - ETA: 0s - loss: 0.4276 - accuracy: 0.8518\n",
            "Epoch 00079: val_accuracy did not improve from 0.76566\n",
            "184/184 [==============================] - 45s 242ms/step - loss: 0.4276 - accuracy: 0.8518 - val_loss: 0.7678 - val_accuracy: 0.7374\n",
            "Epoch 80/80\n",
            "184/184 [==============================] - ETA: 0s - loss: 0.4577 - accuracy: 0.8340\n",
            "Epoch 00080: val_accuracy did not improve from 0.76566\n",
            "184/184 [==============================] - 44s 242ms/step - loss: 0.4577 - accuracy: 0.8340 - val_loss: 0.7526 - val_accuracy: 0.7556\n"
          ],
          "name": "stdout"
        }
      ]
    },
    {
      "cell_type": "code",
      "metadata": {
        "id": "b7dxp6_QEQrZ",
        "colab_type": "code",
        "colab": {
          "base_uri": "https://localhost:8080/",
          "height": 298
        },
        "outputId": "d3c12232-b25c-41b3-a00a-b554e31ddceb"
      },
      "source": [
        "import matplotlib.pyplot as plt\n",
        "acc = history.history['accuracy']\n",
        "val_acc = history.history['val_accuracy']\n",
        "loss = history.history['loss']\n",
        "val_loss = history.history['val_loss']\n",
        "\n",
        "epochs = range(len(acc))\n",
        "\n",
        "plt.plot(epochs, acc, 'r', label='Training accuracy')\n",
        "plt.plot(epochs, val_acc, 'b', label='Validation accuracy')\n",
        "plt.title('Training and validation accuracy')\n",
        "plt.legend(loc=0)\n",
        "plt.figure()\n",
        "\n",
        "\n",
        "plt.show()"
      ],
      "execution_count": null,
      "outputs": [
        {
          "output_type": "display_data",
          "data": {
            "image/png": "[encoded data removed]",
            "text/plain": [
              "<Figure size 432x288 with 1 Axes>"
            ]
          },
          "metadata": {
            "tags": [],
            "needs_background": "light"
          }
        },
        {
          "output_type": "display_data",
          "data": {
            "text/plain": [
              "<Figure size 432x288 with 0 Axes>"
            ]
          },
          "metadata": {
            "tags": []
          }
        }
      ]
    },
    {
      "cell_type": "code",
      "metadata": {
        "id": "3CMQx2WUOj4-",
        "colab_type": "code",
        "colab": {
          "base_uri": "https://localhost:8080/",
          "height": 34
        },
        "outputId": "8a60f06b-4e44-4d6d-cf32-1b3654ce0182"
      },
      "source": [
        "model = tf.keras.models.load_model('new_transfer_learning.h5')\n",
        "converter = tf.lite.TFLiteConverter.from_keras_model(model)\n",
        "tflite_model = converter.convert()#saving converted model in \"converted_model.tflite\" file\n",
        "open(\"new_transfer_learning.tflite\", \"wb\").write(tflite_model)\n",
        "\n",
        "model1 = tf.keras.models.load_model('new_transfer_learning.h5')\n",
        "converter1 = tf.lite.TFLiteConverter.from_keras_model(model1)\n",
        "converter1.optimizations = [tf.lite.Optimize.DEFAULT]\n",
        "tflite_quant_model = converter1.convert()#saving converted model in \"converted_quant_model.tflite\" file\n",
        "open(\"new_transfer_learning_quant.tflite\", \"wb\").write(tflite_quant_model)"
      ],
      "execution_count": null,
      "outputs": [
        {
          "output_type": "execute_result",
          "data": {
            "text/plain": [
              "21176440"
            ]
          },
          "metadata": {
            "tags": []
          },
          "execution_count": 64
        }
      ]
    },
    {
      "cell_type": "code",
      "metadata": {
        "id": "Ujot8-GJ-wpG",
        "colab_type": "code",
        "colab": {
          "base_uri": "https://localhost:8080/",
          "height": 34
        },
        "outputId": "e4349cd5-d413-4413-e917-ebd5d35f5133"
      },
      "source": [
        "print (train_generator.class_indices)\n",
        "\n",
        "labels = '\\n'.join(sorted(train_generator.class_indices.keys()))\n",
        "\n",
        "with open('labels.txt', 'w') as f:\n",
        "  f.write(labels)"
      ],
      "execution_count": null,
      "outputs": [
        {
          "output_type": "stream",
          "text": [
            "{'cardboard': 0, 'glass': 1, 'metal': 2, 'paper': 3, 'plastic': 4, 'trash': 5}\n"
          ],
          "name": "stdout"
        }
      ]
    },
    {
      "cell_type": "code",
      "metadata": {
        "id": "Zahskri9-3bX",
        "colab_type": "code",
        "colab": {
          "base_uri": "https://localhost:8080/",
          "height": 119
        },
        "outputId": "b1d3a96b-a649-4dbc-d7b3-eda35d37db72"
      },
      "source": [
        "!cat labels.txt"
      ],
      "execution_count": null,
      "outputs": [
        {
          "output_type": "stream",
          "text": [
            "cardboard\n",
            "glass\n",
            "metal\n",
            "paper\n",
            "plastic\n",
            "trash"
          ],
          "name": "stdout"
        }
      ]
    }
  ]
}