{
  "nbformat": 4,
  "nbformat_minor": 0,
  "metadata": {
    "colab": {
      "name": "Bangkit-FinalProject.ipynb",
      "provenance": [],
      "collapsed_sections": [],
      "toc_visible": true,
      "mount_file_id": "1Rv2882K18Bjx_n0MS8EsrHo4WllEKc27",
      "authorship_tag": "ABX9TyMxU6lnO6hklY3WGoxZRert",
      "include_colab_link": true
    },
    "kernelspec": {
      "name": "python3",
      "display_name": "Python 3"
    }
  },
  "cells": [
    {
      "cell_type": "markdown",
      "metadata": {
        "id": "view-in-github",
        "colab_type": "text"
      },
      "source": [
        "<a href=\"https://colab.research.google.com/github/MohammadFebriyanto/TrashDetection/blob/master/reyhan_notebook.ipynb\" target=\"_parent\"><img src=\"https://colab.research.google.com/assets/colab-badge.svg\" alt=\"Open In Colab\"/></a>"
      ]
    },
    {
      "cell_type": "code",
      "metadata": {
        "id": "YOPhKX4YXVma",
        "colab_type": "code",
        "outputId": "e275c3ea-23a9-4f1d-c1ec-3458c6cd5b66",
        "colab": {
          "base_uri": "https://localhost:8080/",
          "height": 51
        }
      },
      "source": [
        "# Import Library yang akan digunakan\n",
        "import os\n",
        "import zipfile\n",
        "import shutil\n",
        "import tensorflow as tf\n",
        "import numpy as np\n",
        "import matplotlib.pyplot as plt\n",
        "from tensorflow.keras.optimizers import RMSprop\n",
        "from tensorflow.keras.preprocessing.image import ImageDataGenerator\n",
        "from google.colab import files\n",
        "from keras.preprocessing import image\n",
        "\n",
        "# Cek versi dari tensorflow\n",
        "print(tf.__version__)"
      ],
      "execution_count": 1,
      "outputs": [
        {
          "output_type": "stream",
          "text": [
            "2.2.0\n"
          ],
          "name": "stdout"
        },
        {
          "output_type": "stream",
          "text": [
            "Using TensorFlow backend.\n"
          ],
          "name": "stderr"
        }
      ]
    },
    {
      "cell_type": "code",
      "metadata": {
        "id": "xYxonvYqYP6t",
        "colab_type": "code",
        "outputId": "f6c2cffc-c98a-485d-e6d2-ca04a32a0f58",
        "colab": {
          "base_uri": "https://localhost:8080/",
          "height": 357
        }
      },
      "source": [
        "# Download file zip berisikan gambar\n",
        "!wget --no-check-certificate \\\n",
        "  https://github.com/garythung/trashnet/blob/master/data/dataset-resized.zip?raw=true \\\n",
        "  -O /tmp/trashnet.zip"
      ],
      "execution_count": 2,
      "outputs": [
        {
          "output_type": "stream",
          "text": [
            "--2020-06-04 13:56:34--  https://github.com/garythung/trashnet/blob/master/data/dataset-resized.zip?raw=true\n",
            "Resolving github.com (github.com)... 140.82.113.3\n",
            "Connecting to github.com (github.com)|140.82.113.3|:443... connected.\n",
            "HTTP request sent, awaiting response... 302 Found\n",
            "Location: https://github.com/garythung/trashnet/raw/master/data/dataset-resized.zip [following]\n",
            "--2020-06-04 13:56:34--  https://github.com/garythung/trashnet/raw/master/data/dataset-resized.zip\n",
            "Reusing existing connection to github.com:443.\n",
            "HTTP request sent, awaiting response... 302 Found\n",
            "Location: https://raw.githubusercontent.com/garythung/trashnet/master/data/dataset-resized.zip [following]\n",
            "--2020-06-04 13:56:34--  https://raw.githubusercontent.com/garythung/trashnet/master/data/dataset-resized.zip\n",
            "Resolving raw.githubusercontent.com (raw.githubusercontent.com)... 151.101.0.133, 151.101.64.133, 151.101.128.133, ...\n",
            "Connecting to raw.githubusercontent.com (raw.githubusercontent.com)|151.101.0.133|:443... connected.\n",
            "HTTP request sent, awaiting response... 200 OK\n",
            "Length: 42834870 (41M) [application/zip]\n",
            "Saving to: ‘/tmp/trashnet.zip’\n",
            "\n",
            "/tmp/trashnet.zip   100%[===================>]  40.85M  60.0MB/s    in 0.7s    \n",
            "\n",
            "2020-06-04 13:56:35 (60.0 MB/s) - ‘/tmp/trashnet.zip’ saved [42834870/42834870]\n",
            "\n"
          ],
          "name": "stdout"
        }
      ]
    },
    {
      "cell_type": "code",
      "metadata": {
        "id": "StJClt32a_R0",
        "colab_type": "code",
        "colab": {}
      },
      "source": [
        "# Ekstrak file Zip\n",
        "local_zip = '/tmp/trashnet.zip'\n",
        "zip_ref = zipfile.ZipFile(local_zip, 'r')\n",
        "zip_ref.extractall('/tmp')\n",
        "zip_ref.close()"
      ],
      "execution_count": 0,
      "outputs": []
    },
    {
      "cell_type": "code",
      "metadata": {
        "id": "17_KXwznfUbh",
        "colab_type": "code",
        "outputId": "65bbc710-2dfa-4520-b300-01b155b0c2d0",
        "colab": {
          "base_uri": "https://localhost:8080/",
          "height": 170
        }
      },
      "source": [
        "os.listdir('/tmp/dataset-resized')"
      ],
      "execution_count": 4,
      "outputs": [
        {
          "output_type": "execute_result",
          "data": {
            "text/plain": [
              "['glass',\n",
              " 'validation',\n",
              " '.DS_Store',\n",
              " 'trash',\n",
              " 'plastic',\n",
              " 'paper',\n",
              " 'metal',\n",
              " 'cardboard',\n",
              " 'train']"
            ]
          },
          "metadata": {
            "tags": []
          },
          "execution_count": 4
        }
      ]
    },
    {
      "cell_type": "code",
      "metadata": {
        "id": "xJhD_tMkfcHd",
        "colab_type": "code",
        "colab": {}
      },
      "source": [
        "# Membuat Folder Training dan Validation\n",
        "# os.mkdir(os.path.join('/tmp/dataset-resized/', 'train/'))\n",
        "# os.mkdir(os.path.join('/tmp/dataset-resized/', 'validation/'))\n",
        "os.mkdir(os.path.join('/tmp/dataset-resized/validation/', 'cardboard/'))\n",
        "os.mkdir(os.path.join('/tmp/dataset-resized/validation/', 'glass/'))\n",
        "os.mkdir(os.path.join('/tmp/dataset-resized/validation/', 'metal/'))\n",
        "os.mkdir(os.path.join('/tmp/dataset-resized/validation/', 'paper/'))\n",
        "os.mkdir(os.path.join('/tmp/dataset-resized/validation/', 'plastic/'))\n",
        "os.mkdir(os.path.join('/tmp/dataset-resized/validation/', 'trash/'))"
      ],
      "execution_count": 0,
      "outputs": []
    },
    {
      "cell_type": "code",
      "metadata": {
        "id": "if3SOAcFoAu3",
        "colab_type": "code",
        "colab": {}
      },
      "source": [
        "# Memindahkan file gambar ke dua folder (gambar masih terduplikat)\n",
        "folder_list = ['cardboard', 'glass', 'metal', 'paper', 'plastic', 'trash']\n",
        "for folder in folder_list:\n",
        "  shutil.move('/tmp/dataset-resized/' + folder, '/tmp/dataset-resized/train')"
      ],
      "execution_count": 0,
      "outputs": []
    },
    {
      "cell_type": "code",
      "metadata": {
        "id": "or1-rsIYoavP",
        "colab_type": "code",
        "colab": {}
      },
      "source": [
        "for folder in folder_list:\n",
        "  fraction = int(len(os.listdir('/tmp/dataset-resized/train/' + folder + '/'))*0.2) #jumlah 20% data yang akan dipindahkan\n",
        "  folder_dir = os.listdir('/tmp/dataset-resized/train/' + folder + '/')\n",
        "  chosen_file = folder_dir[:fraction] #memilih 20% pada urutan awal\n",
        "  for file in chosen_file:\n",
        "    shutil.move('/tmp/dataset-resized/train/' + folder + '/' + file, '/tmp/dataset-resized/validation/'+ folder + '/' + file)"
      ],
      "execution_count": 0,
      "outputs": []
    },
    {
      "cell_type": "code",
      "metadata": {
        "id": "sNqMFydSpPCn",
        "colab_type": "code",
        "colab": {
          "base_uri": "https://localhost:8080/",
          "height": 136
        },
        "outputId": "abdb247a-c810-48fe-cf52-44bf866c719c"
      },
      "source": [
        "# Jumlah file gambar di folder train setelah dipindahkan\n",
        "print('Pada folder train:')\n",
        "print('cardboard images: ' + str(len(os.listdir('/tmp/dataset-resized/train/cardboard/'))))\n",
        "print('glass images: ' + str(len(os.listdir('/tmp/dataset-resized/train/glass/'))))\n",
        "print('metal images: ' + str(len(os.listdir('/tmp/dataset-resized/train/metal/'))))\n",
        "print('paper images: ' + str(len(os.listdir('/tmp/dataset-resized/train/paper/'))))\n",
        "print('plastic images: ' + str(len(os.listdir('/tmp/dataset-resized/train/plastic/'))))\n",
        "print('trash images: ' + str(len(os.listdir('/tmp/dataset-resized/train/trash/'))))\n"
      ],
      "execution_count": 11,
      "outputs": [
        {
          "output_type": "stream",
          "text": [
            "Pada folder train:\n",
            "cardboard images: 323\n",
            "glass images: 401\n",
            "metal images: 328\n",
            "paper images: 476\n",
            "plastic images: 386\n",
            "trash images: 110\n"
          ],
          "name": "stdout"
        }
      ]
    },
    {
      "cell_type": "code",
      "metadata": {
        "id": "VMZBtlBAqA57",
        "colab_type": "code",
        "colab": {
          "base_uri": "https://localhost:8080/",
          "height": 136
        },
        "outputId": "1ecf5752-5703-4a08-b59a-f5a430d1abd7"
      },
      "source": [
        "# Jumlah file gambar di folder validation setelah dipindahkan\n",
        "print('Pada folder validation:')\n",
        "print('cardboard images: ' + str(len(os.listdir('/tmp/dataset-resized/validation/cardboard/'))))\n",
        "print('glass images: ' + str(len(os.listdir('/tmp/dataset-resized/validation/glass/'))))\n",
        "print('metal images: ' + str(len(os.listdir('/tmp/dataset-resized/validation/metal/'))))\n",
        "print('paper images: ' + str(len(os.listdir('/tmp/dataset-resized/validation/paper/'))))\n",
        "print('plastic images: ' + str(len(os.listdir('/tmp/dataset-resized/validation/plastic/'))))\n",
        "print('trash images: ' + str(len(os.listdir('/tmp/dataset-resized/validation/trash/'))))"
      ],
      "execution_count": 12,
      "outputs": [
        {
          "output_type": "stream",
          "text": [
            "Pada folder validation:\n",
            "cardboard images: 80\n",
            "glass images: 100\n",
            "metal images: 82\n",
            "paper images: 118\n",
            "plastic images: 96\n",
            "trash images: 27\n"
          ],
          "name": "stdout"
        }
      ]
    },
    {
      "cell_type": "code",
      "metadata": {
        "id": "R8_K_XQpqV-s",
        "colab_type": "code",
        "colab": {
          "base_uri": "https://localhost:8080/",
          "height": 51
        },
        "outputId": "fa7edd40-d354-4779-a586-1038ada433e9"
      },
      "source": [
        "folder_train = '/tmp/dataset-resized/train/'\n",
        "train_datagen = ImageDataGenerator(\n",
        "      rotation_range = 90,\n",
        "      width_shift_range = 0.2,\n",
        "      height_shift_range = 0.2,\n",
        "      rescale = 1./255,\n",
        "      shear_range = 0.2,\n",
        "      zoom_range = 0.2,\n",
        "      fill_mode='nearest')\n",
        "\n",
        "folder_validation = '/tmp/dataset-resized/validation/'\n",
        "\n",
        "train_generator = train_datagen.flow_from_directory(\n",
        "        folder_train, \n",
        "        target_size=(150, 150),  \n",
        "        batch_size=20,\n",
        "        class_mode='categorical')\n",
        "\n",
        "validation_generator = train_datagen.flow_from_directory(\n",
        "        folder_validation, \n",
        "        target_size=(150, 150),  \n",
        "        batch_size=20,\n",
        "        class_mode='categorical')"
      ],
      "execution_count": 42,
      "outputs": [
        {
          "output_type": "stream",
          "text": [
            "Found 2024 images belonging to 6 classes.\n",
            "Found 503 images belonging to 6 classes.\n"
          ],
          "name": "stdout"
        }
      ]
    },
    {
      "cell_type": "code",
      "metadata": {
        "id": "3CD-eF5Aqfw_",
        "colab_type": "code",
        "colab": {
          "base_uri": "https://localhost:8080/",
          "height": 527
        },
        "outputId": "e7b0cb4f-a1b1-466d-a026-6dff786ecb99"
      },
      "source": [
        "model = tf.keras.models.Sequential([\n",
        "\n",
        "tf.keras.layers.Conv2D(16, (3,3), activation='relu', input_shape=(150, 150, 3)),\n",
        "tf.keras.layers.MaxPooling2D(2, 2),\n",
        "tf.keras.layers.Conv2D(32, (3,3), activation='relu'),\n",
        "tf.keras.layers.MaxPooling2D(2,2),\n",
        "tf.keras.layers.Conv2D(64, (3,3), activation='relu'),\n",
        "tf.keras.layers.MaxPooling2D(2,2),\n",
        "tf.keras.layers.Conv2D(128, (3,3), activation='relu'),\n",
        "tf.keras.layers.MaxPooling2D(2,2),\n",
        "tf.keras.layers.Flatten(),\n",
        "tf.keras.layers.Dense(512, activation='relu'),\n",
        "tf.keras.layers.Dense(6, activation='softmax') # menggunakan 3 neuron di akhir dengan fungsi aktivasi softmax sebagai probabilitas\n",
        "])\n",
        "model.summary()\n",
        "\n",
        "model.compile(optimizer=RMSprop(lr=0.001), loss='categorical_crossentropy', metrics=['acc'])"
      ],
      "execution_count": 43,
      "outputs": [
        {
          "output_type": "stream",
          "text": [
            "Model: \"sequential_12\"\n",
            "_________________________________________________________________\n",
            "Layer (type)                 Output Shape              Param #   \n",
            "=================================================================\n",
            "conv2d_38 (Conv2D)           (None, 148, 148, 16)      448       \n",
            "_________________________________________________________________\n",
            "max_pooling2d_45 (MaxPooling (None, 74, 74, 16)        0         \n",
            "_________________________________________________________________\n",
            "conv2d_39 (Conv2D)           (None, 72, 72, 32)        4640      \n",
            "_________________________________________________________________\n",
            "max_pooling2d_46 (MaxPooling (None, 36, 36, 32)        0         \n",
            "_________________________________________________________________\n",
            "conv2d_40 (Conv2D)           (None, 34, 34, 64)        18496     \n",
            "_________________________________________________________________\n",
            "max_pooling2d_47 (MaxPooling (None, 17, 17, 64)        0         \n",
            "_________________________________________________________________\n",
            "conv2d_41 (Conv2D)           (None, 15, 15, 128)       73856     \n",
            "_________________________________________________________________\n",
            "max_pooling2d_48 (MaxPooling (None, 7, 7, 128)         0         \n",
            "_________________________________________________________________\n",
            "flatten_12 (Flatten)         (None, 6272)              0         \n",
            "_________________________________________________________________\n",
            "dense_24 (Dense)             (None, 512)               3211776   \n",
            "_________________________________________________________________\n",
            "dense_25 (Dense)             (None, 6)                 3078      \n",
            "=================================================================\n",
            "Total params: 3,312,294\n",
            "Trainable params: 3,312,294\n",
            "Non-trainable params: 0\n",
            "_________________________________________________________________\n"
          ],
          "name": "stdout"
        }
      ]
    },
    {
      "cell_type": "code",
      "metadata": {
        "id": "q0i_ayECq8ti",
        "colab_type": "code",
        "colab": {
          "base_uri": "https://localhost:8080/",
          "height": 1000
        },
        "outputId": "33b95a22-fd2c-45ad-c727-63e206e0994a"
      },
      "source": [
        "model.fit(\n",
        "      train_generator,\n",
        "      steps_per_epoch=20, \n",
        "      epochs=50,\n",
        "      validation_data=validation_generator, \n",
        "      validation_steps=5,  \n",
        "      verbose=1)"
      ],
      "execution_count": 44,
      "outputs": [
        {
          "output_type": "stream",
          "text": [
            "Epoch 1/50\n",
            "20/20 [==============================] - 13s 627ms/step - loss: 2.0116 - acc: 0.2100 - val_loss: 1.7214 - val_acc: 0.2500\n",
            "Epoch 2/50\n",
            "20/20 [==============================] - 12s 622ms/step - loss: 1.7578 - acc: 0.2025 - val_loss: 1.7304 - val_acc: 0.2500\n",
            "Epoch 3/50\n",
            "20/20 [==============================] - 12s 623ms/step - loss: 1.7662 - acc: 0.2350 - val_loss: 1.6743 - val_acc: 0.3000\n",
            "Epoch 4/50\n",
            "20/20 [==============================] - 12s 606ms/step - loss: 1.7289 - acc: 0.2292 - val_loss: 1.6598 - val_acc: 0.2600\n",
            "Epoch 5/50\n",
            "20/20 [==============================] - 12s 602ms/step - loss: 1.6580 - acc: 0.2682 - val_loss: 1.7019 - val_acc: 0.1900\n",
            "Epoch 6/50\n",
            "20/20 [==============================] - 12s 620ms/step - loss: 1.6290 - acc: 0.2800 - val_loss: 1.6611 - val_acc: 0.2900\n",
            "Epoch 7/50\n",
            "20/20 [==============================] - 12s 619ms/step - loss: 1.6578 - acc: 0.3475 - val_loss: 1.7467 - val_acc: 0.2100\n",
            "Epoch 8/50\n",
            "20/20 [==============================] - 12s 620ms/step - loss: 1.4528 - acc: 0.4100 - val_loss: 1.5714 - val_acc: 0.3500\n",
            "Epoch 9/50\n",
            "20/20 [==============================] - 13s 627ms/step - loss: 1.5393 - acc: 0.4075 - val_loss: 1.5034 - val_acc: 0.3800\n",
            "Epoch 10/50\n",
            "20/20 [==============================] - 12s 620ms/step - loss: 1.5233 - acc: 0.3900 - val_loss: 1.4690 - val_acc: 0.3700\n",
            "Epoch 11/50\n",
            "20/20 [==============================] - 12s 599ms/step - loss: 1.4517 - acc: 0.4453 - val_loss: 1.3859 - val_acc: 0.4400\n",
            "Epoch 12/50\n",
            "20/20 [==============================] - 12s 620ms/step - loss: 1.5303 - acc: 0.4000 - val_loss: 1.8743 - val_acc: 0.3300\n",
            "Epoch 13/50\n",
            "20/20 [==============================] - 12s 622ms/step - loss: 1.4522 - acc: 0.4050 - val_loss: 1.2662 - val_acc: 0.4800\n",
            "Epoch 14/50\n",
            "20/20 [==============================] - 12s 598ms/step - loss: 1.4302 - acc: 0.4401 - val_loss: 1.5226 - val_acc: 0.3300\n",
            "Epoch 15/50\n",
            "20/20 [==============================] - 12s 621ms/step - loss: 1.4880 - acc: 0.4275 - val_loss: 1.4747 - val_acc: 0.4400\n",
            "Epoch 16/50\n",
            "20/20 [==============================] - 12s 614ms/step - loss: 1.3309 - acc: 0.4800 - val_loss: 1.5631 - val_acc: 0.3400\n",
            "Epoch 17/50\n",
            "20/20 [==============================] - 12s 615ms/step - loss: 1.5005 - acc: 0.3725 - val_loss: 1.2757 - val_acc: 0.5300\n",
            "Epoch 18/50\n",
            "20/20 [==============================] - 12s 616ms/step - loss: 1.3567 - acc: 0.4250 - val_loss: 1.4951 - val_acc: 0.4100\n",
            "Epoch 19/50\n",
            "20/20 [==============================] - 12s 613ms/step - loss: 1.3831 - acc: 0.4675 - val_loss: 1.4119 - val_acc: 0.4100\n",
            "Epoch 20/50\n",
            "20/20 [==============================] - 12s 612ms/step - loss: 1.3307 - acc: 0.4425 - val_loss: 1.3074 - val_acc: 0.4600\n",
            "Epoch 21/50\n",
            "20/20 [==============================] - 12s 594ms/step - loss: 1.3553 - acc: 0.4870 - val_loss: 1.1940 - val_acc: 0.5100\n",
            "Epoch 22/50\n",
            "20/20 [==============================] - 12s 617ms/step - loss: 1.2841 - acc: 0.4800 - val_loss: 1.4189 - val_acc: 0.4700\n",
            "Epoch 23/50\n",
            "20/20 [==============================] - 12s 595ms/step - loss: 1.3597 - acc: 0.4635 - val_loss: 1.3223 - val_acc: 0.4600\n",
            "Epoch 24/50\n",
            "20/20 [==============================] - 12s 617ms/step - loss: 1.3065 - acc: 0.4700 - val_loss: 1.6091 - val_acc: 0.4100\n",
            "Epoch 25/50\n",
            "20/20 [==============================] - 12s 596ms/step - loss: 1.3893 - acc: 0.4714 - val_loss: 1.2808 - val_acc: 0.4600\n",
            "Epoch 26/50\n",
            "20/20 [==============================] - 12s 616ms/step - loss: 1.3193 - acc: 0.4900 - val_loss: 1.3056 - val_acc: 0.4500\n",
            "Epoch 27/50\n",
            "20/20 [==============================] - 12s 615ms/step - loss: 1.2127 - acc: 0.5350 - val_loss: 1.2473 - val_acc: 0.4100\n",
            "Epoch 28/50\n",
            "20/20 [==============================] - 12s 595ms/step - loss: 1.2795 - acc: 0.4948 - val_loss: 1.3840 - val_acc: 0.4300\n",
            "Epoch 29/50\n",
            "20/20 [==============================] - 12s 617ms/step - loss: 1.2979 - acc: 0.4550 - val_loss: 1.3507 - val_acc: 0.4400\n",
            "Epoch 30/50\n",
            "20/20 [==============================] - 12s 617ms/step - loss: 1.2046 - acc: 0.5175 - val_loss: 1.3564 - val_acc: 0.5100\n",
            "Epoch 31/50\n",
            "20/20 [==============================] - 12s 618ms/step - loss: 1.2740 - acc: 0.5125 - val_loss: 1.1661 - val_acc: 0.5700\n",
            "Epoch 32/50\n",
            "20/20 [==============================] - 12s 622ms/step - loss: 1.2500 - acc: 0.4950 - val_loss: 1.3669 - val_acc: 0.5700\n",
            "Epoch 33/50\n",
            "20/20 [==============================] - 12s 620ms/step - loss: 1.1882 - acc: 0.5450 - val_loss: 1.2449 - val_acc: 0.5400\n",
            "Epoch 34/50\n",
            "20/20 [==============================] - 12s 621ms/step - loss: 1.2191 - acc: 0.5250 - val_loss: 1.3566 - val_acc: 0.4500\n",
            "Epoch 35/50\n",
            "20/20 [==============================] - 12s 613ms/step - loss: 1.2245 - acc: 0.5200 - val_loss: 1.1751 - val_acc: 0.4800\n",
            "Epoch 36/50\n",
            "20/20 [==============================] - 12s 615ms/step - loss: 1.2355 - acc: 0.5200 - val_loss: 1.4174 - val_acc: 0.3900\n",
            "Epoch 37/50\n",
            "20/20 [==============================] - 12s 622ms/step - loss: 1.2304 - acc: 0.5325 - val_loss: 1.1821 - val_acc: 0.5000\n",
            "Epoch 38/50\n",
            "20/20 [==============================] - 12s 618ms/step - loss: 1.2197 - acc: 0.5700 - val_loss: 1.4476 - val_acc: 0.5100\n",
            "Epoch 39/50\n",
            "20/20 [==============================] - 12s 619ms/step - loss: 1.1695 - acc: 0.5875 - val_loss: 1.3787 - val_acc: 0.4500\n",
            "Epoch 40/50\n",
            "20/20 [==============================] - 12s 620ms/step - loss: 1.1754 - acc: 0.5525 - val_loss: 1.1252 - val_acc: 0.5700\n",
            "Epoch 41/50\n",
            "20/20 [==============================] - 12s 621ms/step - loss: 1.1516 - acc: 0.5700 - val_loss: 1.2725 - val_acc: 0.4900\n",
            "Epoch 42/50\n",
            "20/20 [==============================] - 12s 616ms/step - loss: 1.2026 - acc: 0.5750 - val_loss: 0.9804 - val_acc: 0.6200\n",
            "Epoch 43/50\n",
            "20/20 [==============================] - 12s 618ms/step - loss: 1.1554 - acc: 0.5525 - val_loss: 1.1935 - val_acc: 0.5200\n",
            "Epoch 44/50\n",
            "20/20 [==============================] - 12s 602ms/step - loss: 1.0301 - acc: 0.6172 - val_loss: 1.2182 - val_acc: 0.4900\n",
            "Epoch 45/50\n",
            "20/20 [==============================] - 12s 618ms/step - loss: 1.1853 - acc: 0.5650 - val_loss: 1.2947 - val_acc: 0.4700\n",
            "Epoch 46/50\n",
            "20/20 [==============================] - 12s 620ms/step - loss: 1.1136 - acc: 0.5700 - val_loss: 1.1774 - val_acc: 0.5300\n",
            "Epoch 47/50\n",
            "20/20 [==============================] - 12s 617ms/step - loss: 1.0637 - acc: 0.5950 - val_loss: 1.4501 - val_acc: 0.4800\n",
            "Epoch 48/50\n",
            "20/20 [==============================] - 12s 613ms/step - loss: 1.1340 - acc: 0.5850 - val_loss: 1.1278 - val_acc: 0.5500\n",
            "Epoch 49/50\n",
            "20/20 [==============================] - 12s 616ms/step - loss: 1.0564 - acc: 0.6225 - val_loss: 1.0730 - val_acc: 0.5600\n",
            "Epoch 50/50\n",
            "20/20 [==============================] - 12s 614ms/step - loss: 1.1635 - acc: 0.5400 - val_loss: 1.1586 - val_acc: 0.5800\n"
          ],
          "name": "stdout"
        },
        {
          "output_type": "execute_result",
          "data": {
            "text/plain": [
              "<tensorflow.python.keras.callbacks.History at 0x7f2193d9e8d0>"
            ]
          },
          "metadata": {
            "tags": []
          },
          "execution_count": 44
        }
      ]
    }
  ]
}