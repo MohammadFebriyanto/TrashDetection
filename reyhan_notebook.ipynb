{
  "nbformat": 4,
  "nbformat_minor": 0,
  "metadata": {
    "colab": {
      "name": "Bangkit-FinalProject.ipynb",
      "provenance": [],
      "collapsed_sections": [],
      "toc_visible": true,
      "mount_file_id": "1Rv2882K18Bjx_n0MS8EsrHo4WllEKc27",
      "authorship_tag": "ABX9TyOy+/YBCthHyiTu2Fy9H4nH",
      "include_colab_link": true
    },
    "kernelspec": {
      "name": "python3",
      "display_name": "Python 3"
    }
  },
  "cells": [
    {
      "cell_type": "markdown",
      "metadata": {
        "id": "view-in-github",
        "colab_type": "text"
      },
      "source": [
        "<a href=\"https://colab.research.google.com/github/MohammadFebriyanto/TrashDetection/blob/master/reyhan_notebook.ipynb\" target=\"_parent\"><img src=\"https://colab.research.google.com/assets/colab-badge.svg\" alt=\"Open In Colab\"/></a>"
      ]
    },
    {
      "cell_type": "code",
      "metadata": {
        "id": "YOPhKX4YXVma",
        "colab_type": "code",
        "outputId": "1bbb10ba-3e16-4071-fa48-64a09301a60f",
        "colab": {
          "base_uri": "https://localhost:8080/",
          "height": 34
        }
      },
      "source": [
        "# Import Library yang akan digunakan\n",
        "import os\n",
        "import zipfile\n",
        "import shutil\n",
        "import tensorflow as tf\n",
        "import numpy as np\n",
        "import matplotlib.pyplot as plt\n",
        "from tensorflow.keras.optimizers import RMSprop\n",
        "from tensorflow.keras.preprocessing.image import ImageDataGenerator\n",
        "from google.colab import files\n",
        "from keras.preprocessing import image\n",
        "\n",
        "# Cek versi dari tensorflow\n",
        "print(tf.__version__)"
      ],
      "execution_count": 0,
      "outputs": [
        {
          "output_type": "stream",
          "text": [
            "2.2.0\n"
          ],
          "name": "stdout"
        }
      ]
    },
    {
      "cell_type": "code",
      "metadata": {
        "id": "xYxonvYqYP6t",
        "colab_type": "code",
        "outputId": "10713a43-53e9-4724-e168-6168d5bec74c",
        "colab": {
          "base_uri": "https://localhost:8080/",
          "height": 357
        }
      },
      "source": [
        "# Download file zip berisikan gambar\n",
        "!wget --no-check-certificate \\\n",
        "  https://github.com/garythung/trashnet/blob/master/data/dataset-resized.zip?raw=true \\\n",
        "  -O /tmp/trashnet.zip"
      ],
      "execution_count": 0,
      "outputs": [
        {
          "output_type": "stream",
          "text": [
            "--2020-06-04 13:24:34--  https://github.com/garythung/trashnet/blob/master/data/dataset-resized.zip?raw=true\n",
            "Resolving github.com (github.com)... 140.82.112.3\n",
            "Connecting to github.com (github.com)|140.82.112.3|:443... connected.\n",
            "HTTP request sent, awaiting response... 302 Found\n",
            "Location: https://github.com/garythung/trashnet/raw/master/data/dataset-resized.zip [following]\n",
            "--2020-06-04 13:24:34--  https://github.com/garythung/trashnet/raw/master/data/dataset-resized.zip\n",
            "Reusing existing connection to github.com:443.\n",
            "HTTP request sent, awaiting response... 302 Found\n",
            "Location: https://raw.githubusercontent.com/garythung/trashnet/master/data/dataset-resized.zip [following]\n",
            "--2020-06-04 13:24:35--  https://raw.githubusercontent.com/garythung/trashnet/master/data/dataset-resized.zip\n",
            "Resolving raw.githubusercontent.com (raw.githubusercontent.com)... 151.101.0.133, 151.101.64.133, 151.101.128.133, ...\n",
            "Connecting to raw.githubusercontent.com (raw.githubusercontent.com)|151.101.0.133|:443... connected.\n",
            "HTTP request sent, awaiting response... 200 OK\n",
            "Length: 42834870 (41M) [application/zip]\n",
            "Saving to: ‘/tmp/trashnet.zip’\n",
            "\n",
            "/tmp/trashnet.zip   100%[===================>]  40.85M  56.1MB/s    in 0.7s    \n",
            "\n",
            "2020-06-04 13:24:39 (56.1 MB/s) - ‘/tmp/trashnet.zip’ saved [42834870/42834870]\n",
            "\n"
          ],
          "name": "stdout"
        }
      ]
    },
    {
      "cell_type": "code",
      "metadata": {
        "id": "StJClt32a_R0",
        "colab_type": "code",
        "colab": {}
      },
      "source": [
        "# Ekstrak file Zip\n",
        "local_zip = '/tmp/trashnet.zip'\n",
        "zip_ref = zipfile.ZipFile(local_zip, 'r')\n",
        "zip_ref.extractall('/tmp')\n",
        "zip_ref.close()"
      ],
      "execution_count": 0,
      "outputs": []
    },
    {
      "cell_type": "code",
      "metadata": {
        "id": "17_KXwznfUbh",
        "colab_type": "code",
        "outputId": "f4286aca-bcc0-4ee3-e67c-04a10c981dd9",
        "colab": {
          "base_uri": "https://localhost:8080/",
          "height": 170
        }
      },
      "source": [
        "os.listdir('/tmp/dataset-resized')"
      ],
      "execution_count": 0,
      "outputs": [
        {
          "output_type": "execute_result",
          "data": {
            "text/plain": [
              "['glass',\n",
              " 'validation',\n",
              " '.DS_Store',\n",
              " 'trash',\n",
              " 'plastic',\n",
              " 'paper',\n",
              " 'metal',\n",
              " 'cardboard',\n",
              " 'train']"
            ]
          },
          "metadata": {
            "tags": []
          },
          "execution_count": 17
        }
      ]
    },
    {
      "cell_type": "code",
      "metadata": {
        "id": "xJhD_tMkfcHd",
        "colab_type": "code",
        "outputId": "5f0d57f3-bc86-47e5-a4a7-b084afb92633",
        "colab": {
          "base_uri": "https://localhost:8080/",
          "height": 198
        }
      },
      "source": [
        "# Membuat Folder Training dan Validation\n",
        "os.mkdir(os.path.join('/tmp/dataset-resized/', 'train/'))\n",
        "os.mkdir(os.path.join('/tmp/dataset-resized/', 'validation/'))"
      ],
      "execution_count": 0,
      "outputs": [
        {
          "output_type": "error",
          "ename": "FileExistsError",
          "evalue": "ignored",
          "traceback": [
            "\u001b[0;31m---------------------------------------------------------------------------\u001b[0m",
            "\u001b[0;31mFileExistsError\u001b[0m                           Traceback (most recent call last)",
            "\u001b[0;32m<ipython-input-18-094780a1e758>\u001b[0m in \u001b[0;36m<module>\u001b[0;34m()\u001b[0m\n\u001b[1;32m      1\u001b[0m \u001b[0;31m# Membuat Folder Training dan Validation\u001b[0m\u001b[0;34m\u001b[0m\u001b[0;34m\u001b[0m\u001b[0;34m\u001b[0m\u001b[0m\n\u001b[0;32m----> 2\u001b[0;31m \u001b[0mos\u001b[0m\u001b[0;34m.\u001b[0m\u001b[0mmkdir\u001b[0m\u001b[0;34m(\u001b[0m\u001b[0mos\u001b[0m\u001b[0;34m.\u001b[0m\u001b[0mpath\u001b[0m\u001b[0;34m.\u001b[0m\u001b[0mjoin\u001b[0m\u001b[0;34m(\u001b[0m\u001b[0;34m'/tmp/dataset-resized/'\u001b[0m\u001b[0;34m,\u001b[0m \u001b[0;34m'train/'\u001b[0m\u001b[0;34m)\u001b[0m\u001b[0;34m)\u001b[0m\u001b[0;34m\u001b[0m\u001b[0;34m\u001b[0m\u001b[0m\n\u001b[0m\u001b[1;32m      3\u001b[0m \u001b[0mos\u001b[0m\u001b[0;34m.\u001b[0m\u001b[0mmkdir\u001b[0m\u001b[0;34m(\u001b[0m\u001b[0mos\u001b[0m\u001b[0;34m.\u001b[0m\u001b[0mpath\u001b[0m\u001b[0;34m.\u001b[0m\u001b[0mjoin\u001b[0m\u001b[0;34m(\u001b[0m\u001b[0;34m'/tmp/dataset-resized/'\u001b[0m\u001b[0;34m,\u001b[0m \u001b[0;34m'validation/'\u001b[0m\u001b[0;34m)\u001b[0m\u001b[0;34m)\u001b[0m\u001b[0;34m\u001b[0m\u001b[0;34m\u001b[0m\u001b[0m\n",
            "\u001b[0;31mFileExistsError\u001b[0m: [Errno 17] File exists: '/tmp/dataset-resized/train/'"
          ]
        }
      ]
    },
    {
      "cell_type": "code",
      "metadata": {
        "id": "urghy3o2fzvY",
        "colab_type": "code",
        "colab": {}
      },
      "source": [
        ""
      ],
      "execution_count": 0,
      "outputs": []
    }
  ]
}