{
 "cells": [
  {
   "cell_type": "code",
   "execution_count": 1,
   "metadata": {},
   "outputs": [],
   "source": [
    "import tensorflow as tf\n",
    "from tensorflow.keras.callbacks import ModelCheckpoint\n",
    "from tensorflow.keras.layers import Conv2D, Flatten, MaxPooling2D, Dense, Dropout\n",
    "from tensorflow.keras.models import Sequential, Model\n",
    "from tensorflow.keras.preprocessing.image import ImageDataGenerator\n",
    "import matplotlib.pyplot as plt\n",
    "from tensorflow.keras.applications import MobileNet\n",
    "from tensorflow.keras.layers import Dense,GlobalAveragePooling2D\n",
    "import os"
   ]
  },
  {
   "cell_type": "code",
   "execution_count": 2,
   "metadata": {},
   "outputs": [],
   "source": [
    "def image_plot(item_dir, top=10):\n",
    "    all_item_dirs = os.listdir(item_dir)\n",
    "    item_files = [os.path.join(item_dir, file) for file in all_item_dirs[:5]]\n",
    "    \n",
    "    plt.figure(figsize=(12,14))\n",
    "    \n",
    "    for idx, img_path in enumerate(item_files):\n",
    "        plt.subplot(5,5,idx+1)\n",
    "        \n",
    "        img=plt.imread(img_path)\n",
    "        plt.tight_layout()\n",
    "        plt.imshow(img, cmap='gray')"
   ]
  },
  {
   "cell_type": "code",
   "execution_count": 3,
   "metadata": {},
   "outputs": [
    {
     "name": "stdout",
     "output_type": "stream",
     "text": [
      "['glass', 'trash', 'plastic', 'cardboard', 'paper', 'metal']\n"
     ]
    }
   ],
   "source": [
    "print(os.listdir('Garbage classification/Garbage classification'))"
   ]
  },
  {
   "cell_type": "code",
   "execution_count": 4,
   "metadata": {},
   "outputs": [],
   "source": [
    "data_path = 'Garbage classification/Garbage classification'"
   ]
  },
  {
   "cell_type": "code",
   "execution_count": 5,
   "metadata": {},
   "outputs": [],
   "source": [
    "train = ImageDataGenerator(horizontal_flip=True, vertical_flip=True, validation_split=0.1, rescale=1./255,\n",
    "                           shear_range=0.1,zoom_range=0.1, width_shift_range=0.1,height_shift_range=0.1)\n",
    "\n",
    "test = ImageDataGenerator(rescale=1./255, validation_split=0.1)"
   ]
  },
  {
   "cell_type": "code",
   "execution_count": 6,
   "metadata": {},
   "outputs": [
    {
     "name": "stdout",
     "output_type": "stream",
     "text": [
      "Found 2276 images belonging to 6 classes.\n",
      "Found 251 images belonging to 6 classes.\n"
     ]
    }
   ],
   "source": [
    "shape = (224, 224)\n",
    "train_generator = train.flow_from_directory(data_path,target_size=shape,batch_size=32, class_mode='categorical',\n",
    "                                            subset='training')\n",
    "\n",
    "test_generator = test.flow_from_directory(data_path,target_size=shape,batch_size=32, class_mode='categorical',\n",
    "                                            subset='validation')"
   ]
  },
  {
   "cell_type": "code",
   "execution_count": 7,
   "metadata": {},
   "outputs": [],
   "source": [
    "base_model=MobileNet(input_shape=(224,224,3), weights='imagenet',include_top=False) #imports the mobilenet model and discards the last 1000 neuron layer.\n",
    "\n",
    "x=base_model.output\n",
    "x=GlobalAveragePooling2D()(x)\n",
    "x=Dense(1024,activation='relu')(x) #we add dense layers so that the model can learn more complex functions and classify for better results.\n",
    "x=Dense(1024,activation='relu')(x) #dense layer 2\n",
    "x=Dense(512,activation='relu')(x) #dense layer 3\n",
    "preds=Dense(6,activation='softmax')(x) #final layer with softmax activation"
   ]
  },
  {
   "cell_type": "code",
   "execution_count": 8,
   "metadata": {},
   "outputs": [
    {
     "name": "stdout",
     "output_type": "stream",
     "text": [
      "Model: \"model\"\n",
      "_________________________________________________________________\n",
      "Layer (type)                 Output Shape              Param #   \n",
      "=================================================================\n",
      "input_1 (InputLayer)         [(None, 224, 224, 3)]     0         \n",
      "_________________________________________________________________\n",
      "conv1_pad (ZeroPadding2D)    (None, 225, 225, 3)       0         \n",
      "_________________________________________________________________\n",
      "conv1 (Conv2D)               (None, 112, 112, 32)      864       \n",
      "_________________________________________________________________\n",
      "conv1_bn (BatchNormalization (None, 112, 112, 32)      128       \n",
      "_________________________________________________________________\n",
      "conv1_relu (ReLU)            (None, 112, 112, 32)      0         \n",
      "_________________________________________________________________\n",
      "conv_dw_1 (DepthwiseConv2D)  (None, 112, 112, 32)      288       \n",
      "_________________________________________________________________\n",
      "conv_dw_1_bn (BatchNormaliza (None, 112, 112, 32)      128       \n",
      "_________________________________________________________________\n",
      "conv_dw_1_relu (ReLU)        (None, 112, 112, 32)      0         \n",
      "_________________________________________________________________\n",
      "conv_pw_1 (Conv2D)           (None, 112, 112, 64)      2048      \n",
      "_________________________________________________________________\n",
      "conv_pw_1_bn (BatchNormaliza (None, 112, 112, 64)      256       \n",
      "_________________________________________________________________\n",
      "conv_pw_1_relu (ReLU)        (None, 112, 112, 64)      0         \n",
      "_________________________________________________________________\n",
      "conv_pad_2 (ZeroPadding2D)   (None, 113, 113, 64)      0         \n",
      "_________________________________________________________________\n",
      "conv_dw_2 (DepthwiseConv2D)  (None, 56, 56, 64)        576       \n",
      "_________________________________________________________________\n",
      "conv_dw_2_bn (BatchNormaliza (None, 56, 56, 64)        256       \n",
      "_________________________________________________________________\n",
      "conv_dw_2_relu (ReLU)        (None, 56, 56, 64)        0         \n",
      "_________________________________________________________________\n",
      "conv_pw_2 (Conv2D)           (None, 56, 56, 128)       8192      \n",
      "_________________________________________________________________\n",
      "conv_pw_2_bn (BatchNormaliza (None, 56, 56, 128)       512       \n",
      "_________________________________________________________________\n",
      "conv_pw_2_relu (ReLU)        (None, 56, 56, 128)       0         \n",
      "_________________________________________________________________\n",
      "conv_dw_3 (DepthwiseConv2D)  (None, 56, 56, 128)       1152      \n",
      "_________________________________________________________________\n",
      "conv_dw_3_bn (BatchNormaliza (None, 56, 56, 128)       512       \n",
      "_________________________________________________________________\n",
      "conv_dw_3_relu (ReLU)        (None, 56, 56, 128)       0         \n",
      "_________________________________________________________________\n",
      "conv_pw_3 (Conv2D)           (None, 56, 56, 128)       16384     \n",
      "_________________________________________________________________\n",
      "conv_pw_3_bn (BatchNormaliza (None, 56, 56, 128)       512       \n",
      "_________________________________________________________________\n",
      "conv_pw_3_relu (ReLU)        (None, 56, 56, 128)       0         \n",
      "_________________________________________________________________\n",
      "conv_pad_4 (ZeroPadding2D)   (None, 57, 57, 128)       0         \n",
      "_________________________________________________________________\n",
      "conv_dw_4 (DepthwiseConv2D)  (None, 28, 28, 128)       1152      \n",
      "_________________________________________________________________\n",
      "conv_dw_4_bn (BatchNormaliza (None, 28, 28, 128)       512       \n",
      "_________________________________________________________________\n",
      "conv_dw_4_relu (ReLU)        (None, 28, 28, 128)       0         \n",
      "_________________________________________________________________\n",
      "conv_pw_4 (Conv2D)           (None, 28, 28, 256)       32768     \n",
      "_________________________________________________________________\n",
      "conv_pw_4_bn (BatchNormaliza (None, 28, 28, 256)       1024      \n",
      "_________________________________________________________________\n",
      "conv_pw_4_relu (ReLU)        (None, 28, 28, 256)       0         \n",
      "_________________________________________________________________\n",
      "conv_dw_5 (DepthwiseConv2D)  (None, 28, 28, 256)       2304      \n",
      "_________________________________________________________________\n",
      "conv_dw_5_bn (BatchNormaliza (None, 28, 28, 256)       1024      \n",
      "_________________________________________________________________\n",
      "conv_dw_5_relu (ReLU)        (None, 28, 28, 256)       0         \n",
      "_________________________________________________________________\n",
      "conv_pw_5 (Conv2D)           (None, 28, 28, 256)       65536     \n",
      "_________________________________________________________________\n",
      "conv_pw_5_bn (BatchNormaliza (None, 28, 28, 256)       1024      \n",
      "_________________________________________________________________\n",
      "conv_pw_5_relu (ReLU)        (None, 28, 28, 256)       0         \n",
      "_________________________________________________________________\n",
      "conv_pad_6 (ZeroPadding2D)   (None, 29, 29, 256)       0         \n",
      "_________________________________________________________________\n",
      "conv_dw_6 (DepthwiseConv2D)  (None, 14, 14, 256)       2304      \n",
      "_________________________________________________________________\n",
      "conv_dw_6_bn (BatchNormaliza (None, 14, 14, 256)       1024      \n",
      "_________________________________________________________________\n",
      "conv_dw_6_relu (ReLU)        (None, 14, 14, 256)       0         \n",
      "_________________________________________________________________\n",
      "conv_pw_6 (Conv2D)           (None, 14, 14, 512)       131072    \n",
      "_________________________________________________________________\n",
      "conv_pw_6_bn (BatchNormaliza (None, 14, 14, 512)       2048      \n",
      "_________________________________________________________________\n",
      "conv_pw_6_relu (ReLU)        (None, 14, 14, 512)       0         \n",
      "_________________________________________________________________\n",
      "conv_dw_7 (DepthwiseConv2D)  (None, 14, 14, 512)       4608      \n",
      "_________________________________________________________________\n",
      "conv_dw_7_bn (BatchNormaliza (None, 14, 14, 512)       2048      \n",
      "_________________________________________________________________\n",
      "conv_dw_7_relu (ReLU)        (None, 14, 14, 512)       0         \n",
      "_________________________________________________________________\n",
      "conv_pw_7 (Conv2D)           (None, 14, 14, 512)       262144    \n",
      "_________________________________________________________________\n",
      "conv_pw_7_bn (BatchNormaliza (None, 14, 14, 512)       2048      \n",
      "_________________________________________________________________\n",
      "conv_pw_7_relu (ReLU)        (None, 14, 14, 512)       0         \n",
      "_________________________________________________________________\n",
      "conv_dw_8 (DepthwiseConv2D)  (None, 14, 14, 512)       4608      \n",
      "_________________________________________________________________\n",
      "conv_dw_8_bn (BatchNormaliza (None, 14, 14, 512)       2048      \n",
      "_________________________________________________________________\n",
      "conv_dw_8_relu (ReLU)        (None, 14, 14, 512)       0         \n",
      "_________________________________________________________________\n",
      "conv_pw_8 (Conv2D)           (None, 14, 14, 512)       262144    \n",
      "_________________________________________________________________\n",
      "conv_pw_8_bn (BatchNormaliza (None, 14, 14, 512)       2048      \n",
      "_________________________________________________________________\n",
      "conv_pw_8_relu (ReLU)        (None, 14, 14, 512)       0         \n",
      "_________________________________________________________________\n",
      "conv_dw_9 (DepthwiseConv2D)  (None, 14, 14, 512)       4608      \n",
      "_________________________________________________________________\n",
      "conv_dw_9_bn (BatchNormaliza (None, 14, 14, 512)       2048      \n",
      "_________________________________________________________________\n",
      "conv_dw_9_relu (ReLU)        (None, 14, 14, 512)       0         \n",
      "_________________________________________________________________\n",
      "conv_pw_9 (Conv2D)           (None, 14, 14, 512)       262144    \n",
      "_________________________________________________________________\n",
      "conv_pw_9_bn (BatchNormaliza (None, 14, 14, 512)       2048      \n",
      "_________________________________________________________________\n",
      "conv_pw_9_relu (ReLU)        (None, 14, 14, 512)       0         \n",
      "_________________________________________________________________\n",
      "conv_dw_10 (DepthwiseConv2D) (None, 14, 14, 512)       4608      \n",
      "_________________________________________________________________\n",
      "conv_dw_10_bn (BatchNormaliz (None, 14, 14, 512)       2048      \n",
      "_________________________________________________________________\n",
      "conv_dw_10_relu (ReLU)       (None, 14, 14, 512)       0         \n",
      "_________________________________________________________________\n",
      "conv_pw_10 (Conv2D)          (None, 14, 14, 512)       262144    \n",
      "_________________________________________________________________\n",
      "conv_pw_10_bn (BatchNormaliz (None, 14, 14, 512)       2048      \n",
      "_________________________________________________________________\n",
      "conv_pw_10_relu (ReLU)       (None, 14, 14, 512)       0         \n",
      "_________________________________________________________________\n",
      "conv_dw_11 (DepthwiseConv2D) (None, 14, 14, 512)       4608      \n",
      "_________________________________________________________________\n",
      "conv_dw_11_bn (BatchNormaliz (None, 14, 14, 512)       2048      \n",
      "_________________________________________________________________\n",
      "conv_dw_11_relu (ReLU)       (None, 14, 14, 512)       0         \n",
      "_________________________________________________________________\n",
      "conv_pw_11 (Conv2D)          (None, 14, 14, 512)       262144    \n",
      "_________________________________________________________________\n",
      "conv_pw_11_bn (BatchNormaliz (None, 14, 14, 512)       2048      \n",
      "_________________________________________________________________\n",
      "conv_pw_11_relu (ReLU)       (None, 14, 14, 512)       0         \n",
      "_________________________________________________________________\n",
      "conv_pad_12 (ZeroPadding2D)  (None, 15, 15, 512)       0         \n",
      "_________________________________________________________________\n",
      "conv_dw_12 (DepthwiseConv2D) (None, 7, 7, 512)         4608      \n",
      "_________________________________________________________________\n",
      "conv_dw_12_bn (BatchNormaliz (None, 7, 7, 512)         2048      \n",
      "_________________________________________________________________\n",
      "conv_dw_12_relu (ReLU)       (None, 7, 7, 512)         0         \n",
      "_________________________________________________________________\n",
      "conv_pw_12 (Conv2D)          (None, 7, 7, 1024)        524288    \n",
      "_________________________________________________________________\n",
      "conv_pw_12_bn (BatchNormaliz (None, 7, 7, 1024)        4096      \n",
      "_________________________________________________________________\n",
      "conv_pw_12_relu (ReLU)       (None, 7, 7, 1024)        0         \n",
      "_________________________________________________________________\n",
      "conv_dw_13 (DepthwiseConv2D) (None, 7, 7, 1024)        9216      \n",
      "_________________________________________________________________\n",
      "conv_dw_13_bn (BatchNormaliz (None, 7, 7, 1024)        4096      \n",
      "_________________________________________________________________\n",
      "conv_dw_13_relu (ReLU)       (None, 7, 7, 1024)        0         \n",
      "_________________________________________________________________\n",
      "conv_pw_13 (Conv2D)          (None, 7, 7, 1024)        1048576   \n",
      "_________________________________________________________________\n",
      "conv_pw_13_bn (BatchNormaliz (None, 7, 7, 1024)        4096      \n",
      "_________________________________________________________________\n",
      "conv_pw_13_relu (ReLU)       (None, 7, 7, 1024)        0         \n",
      "_________________________________________________________________\n",
      "global_average_pooling2d (Gl (None, 1024)              0         \n",
      "_________________________________________________________________\n",
      "dense (Dense)                (None, 1024)              1049600   \n",
      "_________________________________________________________________\n",
      "dense_1 (Dense)              (None, 1024)              1049600   \n",
      "_________________________________________________________________\n",
      "dense_2 (Dense)              (None, 512)               524800    \n",
      "_________________________________________________________________\n",
      "dense_3 (Dense)              (None, 6)                 3078      \n",
      "=================================================================\n",
      "Total params: 5,855,942\n",
      "Trainable params: 5,834,054\n",
      "Non-trainable params: 21,888\n",
      "_________________________________________________________________\n"
     ]
    }
   ],
   "source": [
    "model=Model(inputs=base_model.input,outputs=preds)\n",
    "\n",
    "model.summary()"
   ]
  },
  {
   "cell_type": "code",
   "execution_count": 9,
   "metadata": {},
   "outputs": [],
   "source": [
    "model.compile(\n",
    "  optimizer=tf.keras.optimizers.Adam(),\n",
    "  loss='categorical_crossentropy',\n",
    "  metrics=['acc'])"
   ]
  },
  {
   "cell_type": "code",
   "execution_count": 10,
   "metadata": {},
   "outputs": [],
   "source": [
    "model_path='mdelVnet-garbage_model.h5'\n",
    "checkpoint1 = ModelCheckpoint(model_path, monitor='val_acc', verbose=1, save_best_only=True, mode='max')\n",
    "callbacks_list = [checkpoint1]"
   ]
  },
  {
   "cell_type": "code",
   "execution_count": 11,
   "metadata": {},
   "outputs": [],
   "source": [
    "step_size_train = train_generator.n//train_generator.batch_size\n",
    "step_size_test = test_generator.n//test_generator.batch_size"
   ]
  },
  {
   "cell_type": "code",
   "execution_count": 12,
   "metadata": {},
   "outputs": [
    {
     "name": "stdout",
     "output_type": "stream",
     "text": [
      "WARNING:tensorflow:From <ipython-input-12-899e008f0ce5>:2: Model.fit_generator (from tensorflow.python.keras.engine.training) is deprecated and will be removed in a future version.\n",
      "Instructions for updating:\n",
      "Please use Model.fit, which supports generators.\n",
      "Epoch 1/15\n",
      "71/71 [==============================] - ETA: 0s - loss: 1.0014 - acc: 0.6496\n",
      "Epoch 00001: val_acc improved from -inf to 0.32143, saving model to mdelVnet-garbage_model.h5\n",
      "71/71 [==============================] - 505s 7s/step - loss: 1.0014 - acc: 0.6496 - val_loss: 3.6209 - val_acc: 0.3214\n",
      "Epoch 2/15\n",
      "71/71 [==============================] - ETA: 0s - loss: 0.6861 - acc: 0.7767\n",
      "Epoch 00002: val_acc improved from 0.32143 to 0.35268, saving model to mdelVnet-garbage_model.h5\n",
      "71/71 [==============================] - 491s 7s/step - loss: 0.6861 - acc: 0.7767 - val_loss: 4.6974 - val_acc: 0.3527\n",
      "Epoch 3/15\n",
      "71/71 [==============================] - ETA: 0s - loss: 0.5549 - acc: 0.8142\n",
      "Epoch 00003: val_acc improved from 0.35268 to 0.45536, saving model to mdelVnet-garbage_model.h5\n",
      "71/71 [==============================] - 485s 7s/step - loss: 0.5549 - acc: 0.8142 - val_loss: 2.2389 - val_acc: 0.4554\n",
      "Epoch 4/15\n",
      "71/71 [==============================] - ETA: 0s - loss: 0.5235 - acc: 0.8298\n",
      "Epoch 00004: val_acc did not improve from 0.45536\n",
      "71/71 [==============================] - 502s 7s/step - loss: 0.5235 - acc: 0.8298 - val_loss: 3.0347 - val_acc: 0.3750\n",
      "Epoch 5/15\n",
      "71/71 [==============================] - ETA: 0s - loss: 0.4913 - acc: 0.8422\n",
      "Epoch 00005: val_acc improved from 0.45536 to 0.68750, saving model to mdelVnet-garbage_model.h5\n",
      "71/71 [==============================] - 522s 7s/step - loss: 0.4913 - acc: 0.8422 - val_loss: 1.4723 - val_acc: 0.6875\n",
      "Epoch 6/15\n",
      "71/71 [==============================] - ETA: 0s - loss: 0.3826 - acc: 0.8873\n",
      "Epoch 00006: val_acc did not improve from 0.68750\n",
      "71/71 [==============================] - 520s 7s/step - loss: 0.3826 - acc: 0.8873 - val_loss: 2.1100 - val_acc: 0.6295\n",
      "Epoch 7/15\n",
      "71/71 [==============================] - ETA: 0s - loss: 0.3815 - acc: 0.8788\n",
      "Epoch 00007: val_acc did not improve from 0.68750\n",
      "71/71 [==============================] - 490s 7s/step - loss: 0.3815 - acc: 0.8788 - val_loss: 2.2004 - val_acc: 0.5312\n",
      "Epoch 8/15\n",
      "71/71 [==============================] - ETA: 0s - loss: 0.3932 - acc: 0.8641\n",
      "Epoch 00008: val_acc improved from 0.68750 to 0.75893, saving model to mdelVnet-garbage_model.h5\n",
      "71/71 [==============================] - 429s 6s/step - loss: 0.3932 - acc: 0.8641 - val_loss: 0.9110 - val_acc: 0.7589\n",
      "Epoch 9/15\n",
      "71/71 [==============================] - ETA: 0s - loss: 0.4029 - acc: 0.8690\n",
      "Epoch 00009: val_acc did not improve from 0.75893\n",
      "71/71 [==============================] - 424s 6s/step - loss: 0.4029 - acc: 0.8690 - val_loss: 1.9590 - val_acc: 0.4911\n",
      "Epoch 10/15\n",
      "71/71 [==============================] - ETA: 0s - loss: 0.3667 - acc: 0.8837\n",
      "Epoch 00010: val_acc did not improve from 0.75893\n",
      "71/71 [==============================] - 425s 6s/step - loss: 0.3667 - acc: 0.8837 - val_loss: 1.0058 - val_acc: 0.6786\n",
      "Epoch 11/15\n",
      "71/71 [==============================] - ETA: 0s - loss: 0.2425 - acc: 0.9149\n",
      "Epoch 00011: val_acc improved from 0.75893 to 0.79018, saving model to mdelVnet-garbage_model.h5\n",
      "71/71 [==============================] - 419s 6s/step - loss: 0.2425 - acc: 0.9149 - val_loss: 0.8078 - val_acc: 0.7902\n",
      "Epoch 12/15\n",
      "71/71 [==============================] - ETA: 0s - loss: 0.3342 - acc: 0.8904\n",
      "Epoch 00012: val_acc did not improve from 0.79018\n",
      "71/71 [==============================] - 423s 6s/step - loss: 0.3342 - acc: 0.8904 - val_loss: 0.8812 - val_acc: 0.7098\n",
      "Epoch 13/15\n",
      "71/71 [==============================] - ETA: 0s - loss: 0.2862 - acc: 0.9091\n",
      "Epoch 00013: val_acc did not improve from 0.79018\n",
      "71/71 [==============================] - 436s 6s/step - loss: 0.2862 - acc: 0.9091 - val_loss: 0.8161 - val_acc: 0.7411\n",
      "Epoch 14/15\n",
      "71/71 [==============================] - ETA: 0s - loss: 0.3213 - acc: 0.9051\n",
      "Epoch 00014: val_acc improved from 0.79018 to 0.84375, saving model to mdelVnet-garbage_model.h5\n",
      "71/71 [==============================] - 468s 7s/step - loss: 0.3213 - acc: 0.9051 - val_loss: 0.4651 - val_acc: 0.8438\n",
      "Epoch 15/15\n",
      "71/71 [==============================] - ETA: 0s - loss: 0.2560 - acc: 0.9171\n",
      "Epoch 00015: val_acc did not improve from 0.84375\n",
      "71/71 [==============================] - 500s 7s/step - loss: 0.2560 - acc: 0.9171 - val_loss: 0.5949 - val_acc: 0.7679\n"
     ]
    }
   ],
   "source": [
    "history=model.fit_generator(train_generator, epochs=15, steps_per_epoch=step_size_train, validation_data=test_generator,\n",
    "                           validation_steps=step_size_test, callbacks=callbacks_list)"
   ]
  },
  {
   "cell_type": "code",
   "execution_count": 13,
   "metadata": {},
   "outputs": [
    {
     "data": {
      "text/plain": [
       "5891552"
      ]
     },
     "execution_count": 13,
     "metadata": {},
     "output_type": "execute_result"
    }
   ],
   "source": [
    "model = tf.keras.models.load_model('mdelVnet-garbage_model.h5')\n",
    "converter = tf.lite.TFLiteConverter.from_keras_model(model)\n",
    "tflite_model = converter.convert()#saving converted model in \"converted_model.tflite\" file\n",
    "open(\"model_unquant.tflite\", \"wb\").write(tflite_model)\n",
    "\n",
    "model1 = tf.keras.models.load_model('mdelVnet-garbage_model.h5')\n",
    "converter1 = tf.lite.TFLiteConverter.from_keras_model(model1)\n",
    "converter1.optimizations = [tf.lite.Optimize.DEFAULT]\n",
    "tflite_quant_model = converter1.convert()#saving converted model in \"converted_quant_model.tflite\" file\n",
    "open(\"model.tflite\", \"wb\").write(tflite_quant_model)"
   ]
  },
  {
   "cell_type": "code",
   "execution_count": null,
   "metadata": {},
   "outputs": [],
   "source": []
  }
 ],
 "metadata": {
  "kernelspec": {
   "display_name": "Python 3",
   "language": "python",
   "name": "python3"
  },
  "language_info": {
   "codemirror_mode": {
    "name": "ipython",
    "version": 3
   },
   "file_extension": ".py",
   "mimetype": "text/x-python",
   "name": "python",
   "nbconvert_exporter": "python",
   "pygments_lexer": "ipython3",
   "version": "3.7.7"
  }
 },
 "nbformat": 4,
 "nbformat_minor": 4
}
